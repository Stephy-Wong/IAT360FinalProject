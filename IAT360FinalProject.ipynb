{
  "nbformat": 4,
  "nbformat_minor": 0,
  "metadata": {
    "colab": {
      "provenance": [],
      "authorship_tag": "ABX9TyOH4dw6rqvJj0D0PyKDDn62",
      "include_colab_link": true
    },
    "kernelspec": {
      "name": "python3",
      "display_name": "Python 3"
    },
    "language_info": {
      "name": "python"
    },
    "widgets": {
      "application/vnd.jupyter.widget-state+json": {
        "6410c8da08ce4959a5c11c3fe3dfd201": {
          "model_module": "@jupyter-widgets/controls",
          "model_name": "HBoxModel",
          "model_module_version": "2.0.0",
          "state": {
            "_dom_classes": [],
            "_model_module": "@jupyter-widgets/controls",
            "_model_module_version": "2.0.0",
            "_model_name": "HBoxModel",
            "_view_count": null,
            "_view_module": "@jupyter-widgets/controls",
            "_view_module_version": "2.0.0",
            "_view_name": "HBoxView",
            "box_style": "",
            "children": [
              "IPY_MODEL_ab9eef1bc2884bb5bfbe96abfb1f777f",
              "IPY_MODEL_717f52cefee44c7eb38078d5abdc786f",
              "IPY_MODEL_59c07c24bc66481fab0f14871a2daa4d"
            ],
            "layout": "IPY_MODEL_5cded71e732c413abc84bb78029c026c",
            "tabbable": null,
            "tooltip": null
          }
        },
        "ab9eef1bc2884bb5bfbe96abfb1f777f": {
          "model_module": "@jupyter-widgets/controls",
          "model_name": "HTMLModel",
          "model_module_version": "2.0.0",
          "state": {
            "_dom_classes": [],
            "_model_module": "@jupyter-widgets/controls",
            "_model_module_version": "2.0.0",
            "_model_name": "HTMLModel",
            "_view_count": null,
            "_view_module": "@jupyter-widgets/controls",
            "_view_module_version": "2.0.0",
            "_view_name": "HTMLView",
            "description": "",
            "description_allow_html": false,
            "layout": "IPY_MODEL_86451635454d4b0ebdaaf560aed1e647",
            "placeholder": "​",
            "style": "IPY_MODEL_1d9624f363544de38485c763ea6dbc14",
            "tabbable": null,
            "tooltip": null,
            "value": "Map: 100%"
          }
        },
        "717f52cefee44c7eb38078d5abdc786f": {
          "model_module": "@jupyter-widgets/controls",
          "model_name": "FloatProgressModel",
          "model_module_version": "2.0.0",
          "state": {
            "_dom_classes": [],
            "_model_module": "@jupyter-widgets/controls",
            "_model_module_version": "2.0.0",
            "_model_name": "FloatProgressModel",
            "_view_count": null,
            "_view_module": "@jupyter-widgets/controls",
            "_view_module_version": "2.0.0",
            "_view_name": "ProgressView",
            "bar_style": "success",
            "description": "",
            "description_allow_html": false,
            "layout": "IPY_MODEL_e471d73f1fbe43acae2c6d5182792f00",
            "max": 480,
            "min": 0,
            "orientation": "horizontal",
            "style": "IPY_MODEL_c3e35a262c214bbe82bee53248992ce5",
            "tabbable": null,
            "tooltip": null,
            "value": 480
          }
        },
        "59c07c24bc66481fab0f14871a2daa4d": {
          "model_module": "@jupyter-widgets/controls",
          "model_name": "HTMLModel",
          "model_module_version": "2.0.0",
          "state": {
            "_dom_classes": [],
            "_model_module": "@jupyter-widgets/controls",
            "_model_module_version": "2.0.0",
            "_model_name": "HTMLModel",
            "_view_count": null,
            "_view_module": "@jupyter-widgets/controls",
            "_view_module_version": "2.0.0",
            "_view_name": "HTMLView",
            "description": "",
            "description_allow_html": false,
            "layout": "IPY_MODEL_e28a853e88e44d77a157b9753a20c45c",
            "placeholder": "​",
            "style": "IPY_MODEL_2d2fe422511b4527be5daeb779b7465c",
            "tabbable": null,
            "tooltip": null,
            "value": " 480/480 [00:00&lt;00:00, 5537.10 examples/s]"
          }
        },
        "5cded71e732c413abc84bb78029c026c": {
          "model_module": "@jupyter-widgets/base",
          "model_name": "LayoutModel",
          "model_module_version": "2.0.0",
          "state": {
            "_model_module": "@jupyter-widgets/base",
            "_model_module_version": "2.0.0",
            "_model_name": "LayoutModel",
            "_view_count": null,
            "_view_module": "@jupyter-widgets/base",
            "_view_module_version": "2.0.0",
            "_view_name": "LayoutView",
            "align_content": null,
            "align_items": null,
            "align_self": null,
            "border_bottom": null,
            "border_left": null,
            "border_right": null,
            "border_top": null,
            "bottom": null,
            "display": null,
            "flex": null,
            "flex_flow": null,
            "grid_area": null,
            "grid_auto_columns": null,
            "grid_auto_flow": null,
            "grid_auto_rows": null,
            "grid_column": null,
            "grid_gap": null,
            "grid_row": null,
            "grid_template_areas": null,
            "grid_template_columns": null,
            "grid_template_rows": null,
            "height": null,
            "justify_content": null,
            "justify_items": null,
            "left": null,
            "margin": null,
            "max_height": null,
            "max_width": null,
            "min_height": null,
            "min_width": null,
            "object_fit": null,
            "object_position": null,
            "order": null,
            "overflow": null,
            "padding": null,
            "right": null,
            "top": null,
            "visibility": null,
            "width": null
          }
        },
        "86451635454d4b0ebdaaf560aed1e647": {
          "model_module": "@jupyter-widgets/base",
          "model_name": "LayoutModel",
          "model_module_version": "2.0.0",
          "state": {
            "_model_module": "@jupyter-widgets/base",
            "_model_module_version": "2.0.0",
            "_model_name": "LayoutModel",
            "_view_count": null,
            "_view_module": "@jupyter-widgets/base",
            "_view_module_version": "2.0.0",
            "_view_name": "LayoutView",
            "align_content": null,
            "align_items": null,
            "align_self": null,
            "border_bottom": null,
            "border_left": null,
            "border_right": null,
            "border_top": null,
            "bottom": null,
            "display": null,
            "flex": null,
            "flex_flow": null,
            "grid_area": null,
            "grid_auto_columns": null,
            "grid_auto_flow": null,
            "grid_auto_rows": null,
            "grid_column": null,
            "grid_gap": null,
            "grid_row": null,
            "grid_template_areas": null,
            "grid_template_columns": null,
            "grid_template_rows": null,
            "height": null,
            "justify_content": null,
            "justify_items": null,
            "left": null,
            "margin": null,
            "max_height": null,
            "max_width": null,
            "min_height": null,
            "min_width": null,
            "object_fit": null,
            "object_position": null,
            "order": null,
            "overflow": null,
            "padding": null,
            "right": null,
            "top": null,
            "visibility": null,
            "width": null
          }
        },
        "1d9624f363544de38485c763ea6dbc14": {
          "model_module": "@jupyter-widgets/controls",
          "model_name": "HTMLStyleModel",
          "model_module_version": "2.0.0",
          "state": {
            "_model_module": "@jupyter-widgets/controls",
            "_model_module_version": "2.0.0",
            "_model_name": "HTMLStyleModel",
            "_view_count": null,
            "_view_module": "@jupyter-widgets/base",
            "_view_module_version": "2.0.0",
            "_view_name": "StyleView",
            "background": null,
            "description_width": "",
            "font_size": null,
            "text_color": null
          }
        },
        "e471d73f1fbe43acae2c6d5182792f00": {
          "model_module": "@jupyter-widgets/base",
          "model_name": "LayoutModel",
          "model_module_version": "2.0.0",
          "state": {
            "_model_module": "@jupyter-widgets/base",
            "_model_module_version": "2.0.0",
            "_model_name": "LayoutModel",
            "_view_count": null,
            "_view_module": "@jupyter-widgets/base",
            "_view_module_version": "2.0.0",
            "_view_name": "LayoutView",
            "align_content": null,
            "align_items": null,
            "align_self": null,
            "border_bottom": null,
            "border_left": null,
            "border_right": null,
            "border_top": null,
            "bottom": null,
            "display": null,
            "flex": null,
            "flex_flow": null,
            "grid_area": null,
            "grid_auto_columns": null,
            "grid_auto_flow": null,
            "grid_auto_rows": null,
            "grid_column": null,
            "grid_gap": null,
            "grid_row": null,
            "grid_template_areas": null,
            "grid_template_columns": null,
            "grid_template_rows": null,
            "height": null,
            "justify_content": null,
            "justify_items": null,
            "left": null,
            "margin": null,
            "max_height": null,
            "max_width": null,
            "min_height": null,
            "min_width": null,
            "object_fit": null,
            "object_position": null,
            "order": null,
            "overflow": null,
            "padding": null,
            "right": null,
            "top": null,
            "visibility": null,
            "width": null
          }
        },
        "c3e35a262c214bbe82bee53248992ce5": {
          "model_module": "@jupyter-widgets/controls",
          "model_name": "ProgressStyleModel",
          "model_module_version": "2.0.0",
          "state": {
            "_model_module": "@jupyter-widgets/controls",
            "_model_module_version": "2.0.0",
            "_model_name": "ProgressStyleModel",
            "_view_count": null,
            "_view_module": "@jupyter-widgets/base",
            "_view_module_version": "2.0.0",
            "_view_name": "StyleView",
            "bar_color": null,
            "description_width": ""
          }
        },
        "e28a853e88e44d77a157b9753a20c45c": {
          "model_module": "@jupyter-widgets/base",
          "model_name": "LayoutModel",
          "model_module_version": "2.0.0",
          "state": {
            "_model_module": "@jupyter-widgets/base",
            "_model_module_version": "2.0.0",
            "_model_name": "LayoutModel",
            "_view_count": null,
            "_view_module": "@jupyter-widgets/base",
            "_view_module_version": "2.0.0",
            "_view_name": "LayoutView",
            "align_content": null,
            "align_items": null,
            "align_self": null,
            "border_bottom": null,
            "border_left": null,
            "border_right": null,
            "border_top": null,
            "bottom": null,
            "display": null,
            "flex": null,
            "flex_flow": null,
            "grid_area": null,
            "grid_auto_columns": null,
            "grid_auto_flow": null,
            "grid_auto_rows": null,
            "grid_column": null,
            "grid_gap": null,
            "grid_row": null,
            "grid_template_areas": null,
            "grid_template_columns": null,
            "grid_template_rows": null,
            "height": null,
            "justify_content": null,
            "justify_items": null,
            "left": null,
            "margin": null,
            "max_height": null,
            "max_width": null,
            "min_height": null,
            "min_width": null,
            "object_fit": null,
            "object_position": null,
            "order": null,
            "overflow": null,
            "padding": null,
            "right": null,
            "top": null,
            "visibility": null,
            "width": null
          }
        },
        "2d2fe422511b4527be5daeb779b7465c": {
          "model_module": "@jupyter-widgets/controls",
          "model_name": "HTMLStyleModel",
          "model_module_version": "2.0.0",
          "state": {
            "_model_module": "@jupyter-widgets/controls",
            "_model_module_version": "2.0.0",
            "_model_name": "HTMLStyleModel",
            "_view_count": null,
            "_view_module": "@jupyter-widgets/base",
            "_view_module_version": "2.0.0",
            "_view_name": "StyleView",
            "background": null,
            "description_width": "",
            "font_size": null,
            "text_color": null
          }
        },
        "6807c64dace444c29f5c253a60524706": {
          "model_module": "@jupyter-widgets/controls",
          "model_name": "HBoxModel",
          "model_module_version": "2.0.0",
          "state": {
            "_dom_classes": [],
            "_model_module": "@jupyter-widgets/controls",
            "_model_module_version": "2.0.0",
            "_model_name": "HBoxModel",
            "_view_count": null,
            "_view_module": "@jupyter-widgets/controls",
            "_view_module_version": "2.0.0",
            "_view_name": "HBoxView",
            "box_style": "",
            "children": [
              "IPY_MODEL_0d13dd4602ce4de2b4b1bbdd02b9c4b9",
              "IPY_MODEL_2178e799cbe3493da694b46321295cb7",
              "IPY_MODEL_085d5d27cec24ed3a3b269a5f80fca00"
            ],
            "layout": "IPY_MODEL_d322f8ccd33c4c38bc2a05e608c05f52",
            "tabbable": null,
            "tooltip": null
          }
        },
        "0d13dd4602ce4de2b4b1bbdd02b9c4b9": {
          "model_module": "@jupyter-widgets/controls",
          "model_name": "HTMLModel",
          "model_module_version": "2.0.0",
          "state": {
            "_dom_classes": [],
            "_model_module": "@jupyter-widgets/controls",
            "_model_module_version": "2.0.0",
            "_model_name": "HTMLModel",
            "_view_count": null,
            "_view_module": "@jupyter-widgets/controls",
            "_view_module_version": "2.0.0",
            "_view_name": "HTMLView",
            "description": "",
            "description_allow_html": false,
            "layout": "IPY_MODEL_19094a286f2d4681a98cac1cbd0957ef",
            "placeholder": "​",
            "style": "IPY_MODEL_ab14994d204e4735a839506d0975ae1a",
            "tabbable": null,
            "tooltip": null,
            "value": "Map: 100%"
          }
        },
        "2178e799cbe3493da694b46321295cb7": {
          "model_module": "@jupyter-widgets/controls",
          "model_name": "FloatProgressModel",
          "model_module_version": "2.0.0",
          "state": {
            "_dom_classes": [],
            "_model_module": "@jupyter-widgets/controls",
            "_model_module_version": "2.0.0",
            "_model_name": "FloatProgressModel",
            "_view_count": null,
            "_view_module": "@jupyter-widgets/controls",
            "_view_module_version": "2.0.0",
            "_view_name": "ProgressView",
            "bar_style": "success",
            "description": "",
            "description_allow_html": false,
            "layout": "IPY_MODEL_f6232986d99c479c82461b2a5dbbda40",
            "max": 60,
            "min": 0,
            "orientation": "horizontal",
            "style": "IPY_MODEL_319feb430dbf493d8f6a3eb918712849",
            "tabbable": null,
            "tooltip": null,
            "value": 60
          }
        },
        "085d5d27cec24ed3a3b269a5f80fca00": {
          "model_module": "@jupyter-widgets/controls",
          "model_name": "HTMLModel",
          "model_module_version": "2.0.0",
          "state": {
            "_dom_classes": [],
            "_model_module": "@jupyter-widgets/controls",
            "_model_module_version": "2.0.0",
            "_model_name": "HTMLModel",
            "_view_count": null,
            "_view_module": "@jupyter-widgets/controls",
            "_view_module_version": "2.0.0",
            "_view_name": "HTMLView",
            "description": "",
            "description_allow_html": false,
            "layout": "IPY_MODEL_61f57c1243424b929958f6b15168fa09",
            "placeholder": "​",
            "style": "IPY_MODEL_3bcd4f8fdfd141c8b011a2a831603d63",
            "tabbable": null,
            "tooltip": null,
            "value": " 60/60 [00:00&lt;00:00, 7226.57 examples/s]"
          }
        },
        "d322f8ccd33c4c38bc2a05e608c05f52": {
          "model_module": "@jupyter-widgets/base",
          "model_name": "LayoutModel",
          "model_module_version": "2.0.0",
          "state": {
            "_model_module": "@jupyter-widgets/base",
            "_model_module_version": "2.0.0",
            "_model_name": "LayoutModel",
            "_view_count": null,
            "_view_module": "@jupyter-widgets/base",
            "_view_module_version": "2.0.0",
            "_view_name": "LayoutView",
            "align_content": null,
            "align_items": null,
            "align_self": null,
            "border_bottom": null,
            "border_left": null,
            "border_right": null,
            "border_top": null,
            "bottom": null,
            "display": null,
            "flex": null,
            "flex_flow": null,
            "grid_area": null,
            "grid_auto_columns": null,
            "grid_auto_flow": null,
            "grid_auto_rows": null,
            "grid_column": null,
            "grid_gap": null,
            "grid_row": null,
            "grid_template_areas": null,
            "grid_template_columns": null,
            "grid_template_rows": null,
            "height": null,
            "justify_content": null,
            "justify_items": null,
            "left": null,
            "margin": null,
            "max_height": null,
            "max_width": null,
            "min_height": null,
            "min_width": null,
            "object_fit": null,
            "object_position": null,
            "order": null,
            "overflow": null,
            "padding": null,
            "right": null,
            "top": null,
            "visibility": null,
            "width": null
          }
        },
        "19094a286f2d4681a98cac1cbd0957ef": {
          "model_module": "@jupyter-widgets/base",
          "model_name": "LayoutModel",
          "model_module_version": "2.0.0",
          "state": {
            "_model_module": "@jupyter-widgets/base",
            "_model_module_version": "2.0.0",
            "_model_name": "LayoutModel",
            "_view_count": null,
            "_view_module": "@jupyter-widgets/base",
            "_view_module_version": "2.0.0",
            "_view_name": "LayoutView",
            "align_content": null,
            "align_items": null,
            "align_self": null,
            "border_bottom": null,
            "border_left": null,
            "border_right": null,
            "border_top": null,
            "bottom": null,
            "display": null,
            "flex": null,
            "flex_flow": null,
            "grid_area": null,
            "grid_auto_columns": null,
            "grid_auto_flow": null,
            "grid_auto_rows": null,
            "grid_column": null,
            "grid_gap": null,
            "grid_row": null,
            "grid_template_areas": null,
            "grid_template_columns": null,
            "grid_template_rows": null,
            "height": null,
            "justify_content": null,
            "justify_items": null,
            "left": null,
            "margin": null,
            "max_height": null,
            "max_width": null,
            "min_height": null,
            "min_width": null,
            "object_fit": null,
            "object_position": null,
            "order": null,
            "overflow": null,
            "padding": null,
            "right": null,
            "top": null,
            "visibility": null,
            "width": null
          }
        },
        "ab14994d204e4735a839506d0975ae1a": {
          "model_module": "@jupyter-widgets/controls",
          "model_name": "HTMLStyleModel",
          "model_module_version": "2.0.0",
          "state": {
            "_model_module": "@jupyter-widgets/controls",
            "_model_module_version": "2.0.0",
            "_model_name": "HTMLStyleModel",
            "_view_count": null,
            "_view_module": "@jupyter-widgets/base",
            "_view_module_version": "2.0.0",
            "_view_name": "StyleView",
            "background": null,
            "description_width": "",
            "font_size": null,
            "text_color": null
          }
        },
        "f6232986d99c479c82461b2a5dbbda40": {
          "model_module": "@jupyter-widgets/base",
          "model_name": "LayoutModel",
          "model_module_version": "2.0.0",
          "state": {
            "_model_module": "@jupyter-widgets/base",
            "_model_module_version": "2.0.0",
            "_model_name": "LayoutModel",
            "_view_count": null,
            "_view_module": "@jupyter-widgets/base",
            "_view_module_version": "2.0.0",
            "_view_name": "LayoutView",
            "align_content": null,
            "align_items": null,
            "align_self": null,
            "border_bottom": null,
            "border_left": null,
            "border_right": null,
            "border_top": null,
            "bottom": null,
            "display": null,
            "flex": null,
            "flex_flow": null,
            "grid_area": null,
            "grid_auto_columns": null,
            "grid_auto_flow": null,
            "grid_auto_rows": null,
            "grid_column": null,
            "grid_gap": null,
            "grid_row": null,
            "grid_template_areas": null,
            "grid_template_columns": null,
            "grid_template_rows": null,
            "height": null,
            "justify_content": null,
            "justify_items": null,
            "left": null,
            "margin": null,
            "max_height": null,
            "max_width": null,
            "min_height": null,
            "min_width": null,
            "object_fit": null,
            "object_position": null,
            "order": null,
            "overflow": null,
            "padding": null,
            "right": null,
            "top": null,
            "visibility": null,
            "width": null
          }
        },
        "319feb430dbf493d8f6a3eb918712849": {
          "model_module": "@jupyter-widgets/controls",
          "model_name": "ProgressStyleModel",
          "model_module_version": "2.0.0",
          "state": {
            "_model_module": "@jupyter-widgets/controls",
            "_model_module_version": "2.0.0",
            "_model_name": "ProgressStyleModel",
            "_view_count": null,
            "_view_module": "@jupyter-widgets/base",
            "_view_module_version": "2.0.0",
            "_view_name": "StyleView",
            "bar_color": null,
            "description_width": ""
          }
        },
        "61f57c1243424b929958f6b15168fa09": {
          "model_module": "@jupyter-widgets/base",
          "model_name": "LayoutModel",
          "model_module_version": "2.0.0",
          "state": {
            "_model_module": "@jupyter-widgets/base",
            "_model_module_version": "2.0.0",
            "_model_name": "LayoutModel",
            "_view_count": null,
            "_view_module": "@jupyter-widgets/base",
            "_view_module_version": "2.0.0",
            "_view_name": "LayoutView",
            "align_content": null,
            "align_items": null,
            "align_self": null,
            "border_bottom": null,
            "border_left": null,
            "border_right": null,
            "border_top": null,
            "bottom": null,
            "display": null,
            "flex": null,
            "flex_flow": null,
            "grid_area": null,
            "grid_auto_columns": null,
            "grid_auto_flow": null,
            "grid_auto_rows": null,
            "grid_column": null,
            "grid_gap": null,
            "grid_row": null,
            "grid_template_areas": null,
            "grid_template_columns": null,
            "grid_template_rows": null,
            "height": null,
            "justify_content": null,
            "justify_items": null,
            "left": null,
            "margin": null,
            "max_height": null,
            "max_width": null,
            "min_height": null,
            "min_width": null,
            "object_fit": null,
            "object_position": null,
            "order": null,
            "overflow": null,
            "padding": null,
            "right": null,
            "top": null,
            "visibility": null,
            "width": null
          }
        },
        "3bcd4f8fdfd141c8b011a2a831603d63": {
          "model_module": "@jupyter-widgets/controls",
          "model_name": "HTMLStyleModel",
          "model_module_version": "2.0.0",
          "state": {
            "_model_module": "@jupyter-widgets/controls",
            "_model_module_version": "2.0.0",
            "_model_name": "HTMLStyleModel",
            "_view_count": null,
            "_view_module": "@jupyter-widgets/base",
            "_view_module_version": "2.0.0",
            "_view_name": "StyleView",
            "background": null,
            "description_width": "",
            "font_size": null,
            "text_color": null
          }
        },
        "bf5797f00e684ee8bfde0ef296ab6747": {
          "model_module": "@jupyter-widgets/controls",
          "model_name": "HBoxModel",
          "model_module_version": "2.0.0",
          "state": {
            "_dom_classes": [],
            "_model_module": "@jupyter-widgets/controls",
            "_model_module_version": "2.0.0",
            "_model_name": "HBoxModel",
            "_view_count": null,
            "_view_module": "@jupyter-widgets/controls",
            "_view_module_version": "2.0.0",
            "_view_name": "HBoxView",
            "box_style": "",
            "children": [
              "IPY_MODEL_a80888e1478c4d429e356f29da22cb67",
              "IPY_MODEL_f0cda59b7d204226b3be9afc6b14c99c",
              "IPY_MODEL_4bb6587e68cf4a5791f3890b8b8d760a"
            ],
            "layout": "IPY_MODEL_352802bb555d4ada88921bece4121390",
            "tabbable": null,
            "tooltip": null
          }
        },
        "a80888e1478c4d429e356f29da22cb67": {
          "model_module": "@jupyter-widgets/controls",
          "model_name": "HTMLModel",
          "model_module_version": "2.0.0",
          "state": {
            "_dom_classes": [],
            "_model_module": "@jupyter-widgets/controls",
            "_model_module_version": "2.0.0",
            "_model_name": "HTMLModel",
            "_view_count": null,
            "_view_module": "@jupyter-widgets/controls",
            "_view_module_version": "2.0.0",
            "_view_name": "HTMLView",
            "description": "",
            "description_allow_html": false,
            "layout": "IPY_MODEL_b6b81dff34324f10a73243d7d34f4b0b",
            "placeholder": "​",
            "style": "IPY_MODEL_d9104f4b27114e20bc1db0bb2552b84b",
            "tabbable": null,
            "tooltip": null,
            "value": "Map: 100%"
          }
        },
        "f0cda59b7d204226b3be9afc6b14c99c": {
          "model_module": "@jupyter-widgets/controls",
          "model_name": "FloatProgressModel",
          "model_module_version": "2.0.0",
          "state": {
            "_dom_classes": [],
            "_model_module": "@jupyter-widgets/controls",
            "_model_module_version": "2.0.0",
            "_model_name": "FloatProgressModel",
            "_view_count": null,
            "_view_module": "@jupyter-widgets/controls",
            "_view_module_version": "2.0.0",
            "_view_name": "ProgressView",
            "bar_style": "success",
            "description": "",
            "description_allow_html": false,
            "layout": "IPY_MODEL_ff09d2a92aed43e3bd9e5a605130242d",
            "max": 60,
            "min": 0,
            "orientation": "horizontal",
            "style": "IPY_MODEL_2294522996bc4769bc963f01f0b2dad2",
            "tabbable": null,
            "tooltip": null,
            "value": 60
          }
        },
        "4bb6587e68cf4a5791f3890b8b8d760a": {
          "model_module": "@jupyter-widgets/controls",
          "model_name": "HTMLModel",
          "model_module_version": "2.0.0",
          "state": {
            "_dom_classes": [],
            "_model_module": "@jupyter-widgets/controls",
            "_model_module_version": "2.0.0",
            "_model_name": "HTMLModel",
            "_view_count": null,
            "_view_module": "@jupyter-widgets/controls",
            "_view_module_version": "2.0.0",
            "_view_name": "HTMLView",
            "description": "",
            "description_allow_html": false,
            "layout": "IPY_MODEL_20bffdd0f3a24104afedf34a314e8d16",
            "placeholder": "​",
            "style": "IPY_MODEL_688f47fff8e1457fa4a8e3d04c26c3eb",
            "tabbable": null,
            "tooltip": null,
            "value": " 60/60 [00:00&lt;00:00, 9776.93 examples/s]"
          }
        },
        "352802bb555d4ada88921bece4121390": {
          "model_module": "@jupyter-widgets/base",
          "model_name": "LayoutModel",
          "model_module_version": "2.0.0",
          "state": {
            "_model_module": "@jupyter-widgets/base",
            "_model_module_version": "2.0.0",
            "_model_name": "LayoutModel",
            "_view_count": null,
            "_view_module": "@jupyter-widgets/base",
            "_view_module_version": "2.0.0",
            "_view_name": "LayoutView",
            "align_content": null,
            "align_items": null,
            "align_self": null,
            "border_bottom": null,
            "border_left": null,
            "border_right": null,
            "border_top": null,
            "bottom": null,
            "display": null,
            "flex": null,
            "flex_flow": null,
            "grid_area": null,
            "grid_auto_columns": null,
            "grid_auto_flow": null,
            "grid_auto_rows": null,
            "grid_column": null,
            "grid_gap": null,
            "grid_row": null,
            "grid_template_areas": null,
            "grid_template_columns": null,
            "grid_template_rows": null,
            "height": null,
            "justify_content": null,
            "justify_items": null,
            "left": null,
            "margin": null,
            "max_height": null,
            "max_width": null,
            "min_height": null,
            "min_width": null,
            "object_fit": null,
            "object_position": null,
            "order": null,
            "overflow": null,
            "padding": null,
            "right": null,
            "top": null,
            "visibility": null,
            "width": null
          }
        },
        "b6b81dff34324f10a73243d7d34f4b0b": {
          "model_module": "@jupyter-widgets/base",
          "model_name": "LayoutModel",
          "model_module_version": "2.0.0",
          "state": {
            "_model_module": "@jupyter-widgets/base",
            "_model_module_version": "2.0.0",
            "_model_name": "LayoutModel",
            "_view_count": null,
            "_view_module": "@jupyter-widgets/base",
            "_view_module_version": "2.0.0",
            "_view_name": "LayoutView",
            "align_content": null,
            "align_items": null,
            "align_self": null,
            "border_bottom": null,
            "border_left": null,
            "border_right": null,
            "border_top": null,
            "bottom": null,
            "display": null,
            "flex": null,
            "flex_flow": null,
            "grid_area": null,
            "grid_auto_columns": null,
            "grid_auto_flow": null,
            "grid_auto_rows": null,
            "grid_column": null,
            "grid_gap": null,
            "grid_row": null,
            "grid_template_areas": null,
            "grid_template_columns": null,
            "grid_template_rows": null,
            "height": null,
            "justify_content": null,
            "justify_items": null,
            "left": null,
            "margin": null,
            "max_height": null,
            "max_width": null,
            "min_height": null,
            "min_width": null,
            "object_fit": null,
            "object_position": null,
            "order": null,
            "overflow": null,
            "padding": null,
            "right": null,
            "top": null,
            "visibility": null,
            "width": null
          }
        },
        "d9104f4b27114e20bc1db0bb2552b84b": {
          "model_module": "@jupyter-widgets/controls",
          "model_name": "HTMLStyleModel",
          "model_module_version": "2.0.0",
          "state": {
            "_model_module": "@jupyter-widgets/controls",
            "_model_module_version": "2.0.0",
            "_model_name": "HTMLStyleModel",
            "_view_count": null,
            "_view_module": "@jupyter-widgets/base",
            "_view_module_version": "2.0.0",
            "_view_name": "StyleView",
            "background": null,
            "description_width": "",
            "font_size": null,
            "text_color": null
          }
        },
        "ff09d2a92aed43e3bd9e5a605130242d": {
          "model_module": "@jupyter-widgets/base",
          "model_name": "LayoutModel",
          "model_module_version": "2.0.0",
          "state": {
            "_model_module": "@jupyter-widgets/base",
            "_model_module_version": "2.0.0",
            "_model_name": "LayoutModel",
            "_view_count": null,
            "_view_module": "@jupyter-widgets/base",
            "_view_module_version": "2.0.0",
            "_view_name": "LayoutView",
            "align_content": null,
            "align_items": null,
            "align_self": null,
            "border_bottom": null,
            "border_left": null,
            "border_right": null,
            "border_top": null,
            "bottom": null,
            "display": null,
            "flex": null,
            "flex_flow": null,
            "grid_area": null,
            "grid_auto_columns": null,
            "grid_auto_flow": null,
            "grid_auto_rows": null,
            "grid_column": null,
            "grid_gap": null,
            "grid_row": null,
            "grid_template_areas": null,
            "grid_template_columns": null,
            "grid_template_rows": null,
            "height": null,
            "justify_content": null,
            "justify_items": null,
            "left": null,
            "margin": null,
            "max_height": null,
            "max_width": null,
            "min_height": null,
            "min_width": null,
            "object_fit": null,
            "object_position": null,
            "order": null,
            "overflow": null,
            "padding": null,
            "right": null,
            "top": null,
            "visibility": null,
            "width": null
          }
        },
        "2294522996bc4769bc963f01f0b2dad2": {
          "model_module": "@jupyter-widgets/controls",
          "model_name": "ProgressStyleModel",
          "model_module_version": "2.0.0",
          "state": {
            "_model_module": "@jupyter-widgets/controls",
            "_model_module_version": "2.0.0",
            "_model_name": "ProgressStyleModel",
            "_view_count": null,
            "_view_module": "@jupyter-widgets/base",
            "_view_module_version": "2.0.0",
            "_view_name": "StyleView",
            "bar_color": null,
            "description_width": ""
          }
        },
        "20bffdd0f3a24104afedf34a314e8d16": {
          "model_module": "@jupyter-widgets/base",
          "model_name": "LayoutModel",
          "model_module_version": "2.0.0",
          "state": {
            "_model_module": "@jupyter-widgets/base",
            "_model_module_version": "2.0.0",
            "_model_name": "LayoutModel",
            "_view_count": null,
            "_view_module": "@jupyter-widgets/base",
            "_view_module_version": "2.0.0",
            "_view_name": "LayoutView",
            "align_content": null,
            "align_items": null,
            "align_self": null,
            "border_bottom": null,
            "border_left": null,
            "border_right": null,
            "border_top": null,
            "bottom": null,
            "display": null,
            "flex": null,
            "flex_flow": null,
            "grid_area": null,
            "grid_auto_columns": null,
            "grid_auto_flow": null,
            "grid_auto_rows": null,
            "grid_column": null,
            "grid_gap": null,
            "grid_row": null,
            "grid_template_areas": null,
            "grid_template_columns": null,
            "grid_template_rows": null,
            "height": null,
            "justify_content": null,
            "justify_items": null,
            "left": null,
            "margin": null,
            "max_height": null,
            "max_width": null,
            "min_height": null,
            "min_width": null,
            "object_fit": null,
            "object_position": null,
            "order": null,
            "overflow": null,
            "padding": null,
            "right": null,
            "top": null,
            "visibility": null,
            "width": null
          }
        },
        "688f47fff8e1457fa4a8e3d04c26c3eb": {
          "model_module": "@jupyter-widgets/controls",
          "model_name": "HTMLStyleModel",
          "model_module_version": "2.0.0",
          "state": {
            "_model_module": "@jupyter-widgets/controls",
            "_model_module_version": "2.0.0",
            "_model_name": "HTMLStyleModel",
            "_view_count": null,
            "_view_module": "@jupyter-widgets/base",
            "_view_module_version": "2.0.0",
            "_view_name": "StyleView",
            "background": null,
            "description_width": "",
            "font_size": null,
            "text_color": null
          }
        }
      }
    }
  },
  "cells": [
    {
      "cell_type": "markdown",
      "metadata": {
        "id": "view-in-github",
        "colab_type": "text"
      },
      "source": [
        "<a href=\"https://colab.research.google.com/github/Stephy-Wong/IAT360FinalProject/blob/main/IAT360FinalProject.ipynb\" target=\"_parent\"><img src=\"https://colab.research.google.com/assets/colab-badge.svg\" alt=\"Open In Colab\"/></a>"
      ]
    },
    {
      "cell_type": "markdown",
      "source": [
        "# **Book Cover Classifier using easyOCR and Bert**"
      ],
      "metadata": {
        "id": "ZP9bLj3OfyJ1"
      }
    },
    {
      "cell_type": "markdown",
      "source": [
        "Kaggle Dataset: https://www.kaggle.com/datasets/lukaanicin/book-covers-dataset?select=book-covers\n",
        "\n",
        "Link to new Dataset: https://1sfu-my.sharepoint.com/:f:/g/personal/hkw8_sfu_ca/EgvusumSmyRDsCAHuLLkpLgBXAQMDCUM-5irUEjj_CpiPA?e=TwP8y3\n",
        "\n",
        "Link to Combined Dataset: https://1sfu-my.sharepoint.com/:f:/g/personal/hkw8_sfu_ca/EoGhOyejMYlDjOUsNc7lvW4Bu7nbZO8sj3Gvjw2MgsA2SA?e=VN9uWQ"
      ],
      "metadata": {
        "id": "BpRjikAJURNA"
      }
    },
    {
      "cell_type": "markdown",
      "source": [
        "## Optical Character Recognition (OCR)"
      ],
      "metadata": {
        "id": "lty-oRK5g1s-"
      }
    },
    {
      "cell_type": "markdown",
      "source": [
        "Install easyocr for extracting text in book covers"
      ],
      "metadata": {
        "id": "M8YcLjSOgrEX"
      }
    },
    {
      "cell_type": "code",
      "execution_count": null,
      "metadata": {
        "colab": {
          "base_uri": "https://localhost:8080/"
        },
        "id": "9ksxHWdlfkA5",
        "outputId": "99fa90b4-8e39-4ef7-fa0c-ff9c26e5c0ff"
      },
      "outputs": [
        {
          "output_type": "stream",
          "name": "stdout",
          "text": [
            "Requirement already satisfied: easyocr in /Library/Frameworks/Python.framework/Versions/3.11/lib/python3.11/site-packages (1.7.2)\r\n",
            "Requirement already satisfied: torch in /Library/Frameworks/Python.framework/Versions/3.11/lib/python3.11/site-packages (from easyocr) (2.5.0)\r\n",
            "Requirement already satisfied: torchvision>=0.5 in /Library/Frameworks/Python.framework/Versions/3.11/lib/python3.11/site-packages (from easyocr) (0.20.0)\n",
            "Requirement already satisfied: opencv-python-headless in /Library/Frameworks/Python.framework/Versions/3.11/lib/python3.11/site-packages (from easyocr) (4.10.0.84)\n",
            "Requirement already satisfied: scipy in /Library/Frameworks/Python.framework/Versions/3.11/lib/python3.11/site-packages (from easyocr) (1.14.1)\n",
            "Requirement already satisfied: numpy in /Library/Frameworks/Python.framework/Versions/3.11/lib/python3.11/site-packages (from easyocr) (1.26.4)\n",
            "Requirement already satisfied: Pillow in /Library/Frameworks/Python.framework/Versions/3.11/lib/python3.11/site-packages (from easyocr) (10.4.0)\n",
            "Requirement already satisfied: scikit-image in /Library/Frameworks/Python.framework/Versions/3.11/lib/python3.11/site-packages (from easyocr) (0.24.0)\n",
            "Requirement already satisfied: python-bidi in /Library/Frameworks/Python.framework/Versions/3.11/lib/python3.11/site-packages (from easyocr) (0.6.3)\n",
            "Requirement already satisfied: PyYAML in /Library/Frameworks/Python.framework/Versions/3.11/lib/python3.11/site-packages (from easyocr) (6.0.2)\n",
            "Requirement already satisfied: Shapely in /Library/Frameworks/Python.framework/Versions/3.11/lib/python3.11/site-packages (from easyocr) (2.0.6)\n",
            "Requirement already satisfied: pyclipper in /Library/Frameworks/Python.framework/Versions/3.11/lib/python3.11/site-packages (from easyocr) (1.3.0.post6)\n",
            "Requirement already satisfied: ninja in /Library/Frameworks/Python.framework/Versions/3.11/lib/python3.11/site-packages (from easyocr) (1.11.1.2)\n",
            "Requirement already satisfied: filelock in /Library/Frameworks/Python.framework/Versions/3.11/lib/python3.11/site-packages (from torch->easyocr) (3.16.1)\n",
            "Requirement already satisfied: typing-extensions>=4.8.0 in /Library/Frameworks/Python.framework/Versions/3.11/lib/python3.11/site-packages (from torch->easyocr) (4.12.2)\n",
            "Requirement already satisfied: networkx in /Library/Frameworks/Python.framework/Versions/3.11/lib/python3.11/site-packages (from torch->easyocr) (3.4.2)\n",
            "Requirement already satisfied: jinja2 in /Library/Frameworks/Python.framework/Versions/3.11/lib/python3.11/site-packages (from torch->easyocr) (3.1.4)\n",
            "Requirement already satisfied: fsspec in /Library/Frameworks/Python.framework/Versions/3.11/lib/python3.11/site-packages (from torch->easyocr) (2024.9.0)\n",
            "Requirement already satisfied: sympy==1.13.1 in /Library/Frameworks/Python.framework/Versions/3.11/lib/python3.11/site-packages (from torch->easyocr) (1.13.1)\n",
            "Requirement already satisfied: mpmath<1.4,>=1.1.0 in /Library/Frameworks/Python.framework/Versions/3.11/lib/python3.11/site-packages (from sympy==1.13.1->torch->easyocr) (1.3.0)\n",
            "Requirement already satisfied: imageio>=2.33 in /Library/Frameworks/Python.framework/Versions/3.11/lib/python3.11/site-packages (from scikit-image->easyocr) (2.36.0)\n",
            "Requirement already satisfied: tifffile>=2022.8.12 in /Library/Frameworks/Python.framework/Versions/3.11/lib/python3.11/site-packages (from scikit-image->easyocr) (2024.9.20)\n",
            "Requirement already satisfied: packaging>=21 in /Library/Frameworks/Python.framework/Versions/3.11/lib/python3.11/site-packages (from scikit-image->easyocr) (24.1)\n",
            "Requirement already satisfied: lazy-loader>=0.4 in /Library/Frameworks/Python.framework/Versions/3.11/lib/python3.11/site-packages (from scikit-image->easyocr) (0.4)\n",
            "Requirement already satisfied: MarkupSafe>=2.0 in /Library/Frameworks/Python.framework/Versions/3.11/lib/python3.11/site-packages (from jinja2->torch->easyocr) (2.1.5)\n",
            "Note: you may need to restart the kernel to use updated packages.\n"
          ]
        }
      ],
      "source": [
        "pip install easyocr"
      ]
    },
    {
      "cell_type": "markdown",
      "source": [
        "Use the EasyOCR reader to extract text from book images, then save the extracted text to corresponding output text files."
      ],
      "metadata": {
        "id": "RyAz0y2l-WNC"
      }
    },
    {
      "cell_type": "code",
      "source": [
        "import easyocr\n",
        "import os\n",
        "\n",
        "# Initialize the easyocr reader\n",
        "reader = easyocr.Reader(['en'])\n",
        "\n",
        "# List of image paths\n",
        "image_paths = [\n",
        "    \"Desktop/IAT 360/Final Project/dataset/images/Children_Books\",\n",
        "    \"Desktop/IAT 360/Final Project/dataset/images/Craft_Hobbies\",\n",
        "    \"Desktop/IAT 360/Final Project/dataset/images/Food_Drink\",\n",
        "    \"Desktop/IAT 360/Final Project/dataset/images/Thrillers\",\n",
        "    \"Desktop/IAT 360/Final Project/dataset/images/Travel\",\n",
        "]\n",
        "\n",
        "# Corresponding output file paths\n",
        "output_paths = [\n",
        "    \"Desktop/IAT 360/Final Project/dataset/labels/Children_Books_output.txt\",\n",
        "    \"Desktop/IAT 360/Final Project/dataset/labels/Craft_Hobbies_output.txt\",\n",
        "    \"Desktop/IAT 360/Final Project/dataset/labels/Food_Drink_output.txt\",\n",
        "    \"Desktop/IAT 360/Final Project/dataset/labels/Thrillers_output.txt\",\n",
        "    \"Desktop/IAT 360/Final Project/dataset/labels/Travel_output.txt\",\n",
        "]\n",
        "\n",
        "# Loop through each directory and corresponding output file\n",
        "for image_path, output_path in zip(image_paths, output_paths):\n",
        "    image_count = 0  # Reset counter for each directory\n",
        "\n",
        "    # Open the output file for writing\n",
        "    with open(output_path, \"w\") as output_file:\n",
        "        # Loop through each image file in the directory\n",
        "        for image_file in os.listdir(image_path):\n",
        "            if image_file.lower().endswith(('.jpg', '.png', '.jpeg')):\n",
        "                # Full path to the image\n",
        "                image = os.path.join(image_path, image_file)\n",
        "\n",
        "                # Run easyocr on the image\n",
        "                result = reader.readtext(image)\n",
        "\n",
        "                # Collect all the text from the result and join it as a single line\n",
        "                strings = [item[1] for item in result]\n",
        "                line = \" \".join(strings)  # Join with a space to keep words readable\n",
        "\n",
        "                # Write the concatenated line to the file\n",
        "                output_file.write(line + \"\\n\")\n",
        "\n",
        "                # Increment the counter and stop after 100 images\n",
        "                image_count += 1\n",
        "                if image_count >= 120:\n",
        "                    break"
      ],
      "metadata": {
        "id": "xe5GoEC_gLdX"
      },
      "execution_count": null,
      "outputs": []
    },
    {
      "cell_type": "markdown",
      "source": [
        "Create a dictionary with the extracted text and their associated labels, by reading the text data from the output files and mapping each file to a specific label."
      ],
      "metadata": {
        "id": "jUISY8Vq_cGk"
      }
    },
    {
      "cell_type": "code",
      "source": [
        "import numpy as np\n",
        "import glob\n",
        "\n",
        "df = {'text': [],\n",
        "      'label': []}\n",
        "\n",
        "# Define label mapping based on file names\n",
        "label_mapping = {\n",
        "  'Children_Books_output.txt': 0,\n",
        "  'Craft_Hobbies_output.txt': 1,\n",
        "  'Food_Drink_output.txt': 2,\n",
        "  'Thrillers_output.txt': 3,\n",
        "  'Travel_output.txt': 4\n",
        "}\n",
        "\n",
        "x = []\n",
        "count = 0\n",
        "\n",
        "for file in glob.glob('Desktop/IAT 360/Final Project/dataset/labels/*.txt'):\n",
        "  # Extract the file name\n",
        "  file_name = file.split('/')[-1]  # Adjust based on your OS path separator\n",
        "  label = label_mapping.get(file_name)  # Get the corresponding label\n",
        "\n",
        "  # Open each file to extract data content\n",
        "  with open(file, 'r') as f:\n",
        "      file_content = f.read().splitlines()\n",
        "\n",
        "  # Append text and label to the df dictionary\n",
        "  for content in file_content:\n",
        "      df['text'].append(content)  # Keep the text as-is\n",
        "      df['label'].append(label)   # Assign the label based on the file\n",
        "\n",
        "  count += 1\n",
        "\n",
        "# Convert labels to a numpy array if needed\n",
        "x = np.array(df['label'])  # Only labels, if required"
      ],
      "metadata": {
        "id": "R00LHyO5gUmT"
      },
      "execution_count": null,
      "outputs": []
    },
    {
      "cell_type": "markdown",
      "source": [
        "Format df in a DataFrame and display to see the results."
      ],
      "metadata": {
        "id": "AgXqii7XSrxG"
      }
    },
    {
      "cell_type": "code",
      "source": [
        "import pandas as pd\n",
        "all_df = pd.DataFrame(df)\n",
        "all_df"
      ],
      "metadata": {
        "colab": {
          "base_uri": "https://localhost:8080/",
          "height": 424
        },
        "id": "5amziuLDgd3E",
        "outputId": "389102b7-1fae-4bb8-ec9b-c7d862c6a773"
      },
      "execution_count": null,
      "outputs": [
        {
          "output_type": "execute_result",
          "data": {
            "text/plain": [
              "                                                  text  label\n",
              "0       An Eye Dallaauhnllor JD ROBB VENDETTA IN DEATH      3\n",
              "1    ApSeDIUP MICHAEL CONNELLY THE BURNING ROOM bul...      3\n",
              "2                         Michael Robotham The Suspect      3\n",
              "3                     LOUISE PENNY NATURE of the BEAST      3\n",
              "4    CRIME PUNISHMFNT Oennna DOSTOYEvSKY Ula4 Rn Ai...      3\n",
              "..                                                 ...    ...\n",
              "595  Original BLOOD TYPE DIET EAI RIGHT FAR YOUR TY...      2\n",
              "596                                         cook BAKER      2\n",
              "597                   Foop; WTF Shouid EAT Brmarkhyman      2\n",
              "598                               Artisan VEGAN CHEESE      2\n",
              "599  The Paleo Approach cookbooK 0 Oetttd Gdje p 12...      2\n",
              "\n",
              "[600 rows x 2 columns]"
            ],
            "text/html": [
              "<div>\n",
              "<style scoped>\n",
              "    .dataframe tbody tr th:only-of-type {\n",
              "        vertical-align: middle;\n",
              "    }\n",
              "\n",
              "    .dataframe tbody tr th {\n",
              "        vertical-align: top;\n",
              "    }\n",
              "\n",
              "    .dataframe thead th {\n",
              "        text-align: right;\n",
              "    }\n",
              "</style>\n",
              "<table border=\"1\" class=\"dataframe\">\n",
              "  <thead>\n",
              "    <tr style=\"text-align: right;\">\n",
              "      <th></th>\n",
              "      <th>text</th>\n",
              "      <th>label</th>\n",
              "    </tr>\n",
              "  </thead>\n",
              "  <tbody>\n",
              "    <tr>\n",
              "      <th>0</th>\n",
              "      <td>An Eye Dallaauhnllor JD ROBB VENDETTA IN DEATH</td>\n",
              "      <td>3</td>\n",
              "    </tr>\n",
              "    <tr>\n",
              "      <th>1</th>\n",
              "      <td>ApSeDIUP MICHAEL CONNELLY THE BURNING ROOM bul...</td>\n",
              "      <td>3</td>\n",
              "    </tr>\n",
              "    <tr>\n",
              "      <th>2</th>\n",
              "      <td>Michael Robotham The Suspect</td>\n",
              "      <td>3</td>\n",
              "    </tr>\n",
              "    <tr>\n",
              "      <th>3</th>\n",
              "      <td>LOUISE PENNY NATURE of the BEAST</td>\n",
              "      <td>3</td>\n",
              "    </tr>\n",
              "    <tr>\n",
              "      <th>4</th>\n",
              "      <td>CRIME PUNISHMFNT Oennna DOSTOYEvSKY Ula4 Rn Ai...</td>\n",
              "      <td>3</td>\n",
              "    </tr>\n",
              "    <tr>\n",
              "      <th>...</th>\n",
              "      <td>...</td>\n",
              "      <td>...</td>\n",
              "    </tr>\n",
              "    <tr>\n",
              "      <th>595</th>\n",
              "      <td>Original BLOOD TYPE DIET EAI RIGHT FAR YOUR TY...</td>\n",
              "      <td>2</td>\n",
              "    </tr>\n",
              "    <tr>\n",
              "      <th>596</th>\n",
              "      <td>cook BAKER</td>\n",
              "      <td>2</td>\n",
              "    </tr>\n",
              "    <tr>\n",
              "      <th>597</th>\n",
              "      <td>Foop; WTF Shouid EAT Brmarkhyman</td>\n",
              "      <td>2</td>\n",
              "    </tr>\n",
              "    <tr>\n",
              "      <th>598</th>\n",
              "      <td>Artisan VEGAN CHEESE</td>\n",
              "      <td>2</td>\n",
              "    </tr>\n",
              "    <tr>\n",
              "      <th>599</th>\n",
              "      <td>The Paleo Approach cookbooK 0 Oetttd Gdje p 12...</td>\n",
              "      <td>2</td>\n",
              "    </tr>\n",
              "  </tbody>\n",
              "</table>\n",
              "<p>600 rows × 2 columns</p>\n",
              "</div>"
            ]
          },
          "metadata": {},
          "execution_count": 5
        }
      ]
    },
    {
      "cell_type": "markdown",
      "source": [
        "## Transfer learning on BERT (NLP)\n",
        "Transfer learning on BERT with the book cover dataset to make a book classifier."
      ],
      "metadata": {
        "id": "xURPbq7oInFx"
      }
    },
    {
      "cell_type": "markdown",
      "source": [
        "Install some Python packages with pip"
      ],
      "metadata": {
        "id": "N1wTsVR3Q7fT"
      }
    },
    {
      "cell_type": "code",
      "source": [
        "!pip install numpy torch datasets transformers evaluate --quiet"
      ],
      "metadata": {
        "id": "NwHhN9Z6JUoa"
      },
      "execution_count": null,
      "outputs": []
    },
    {
      "cell_type": "markdown",
      "source": [
        "Check the version we are using."
      ],
      "metadata": {
        "id": "JEZ9JspTRDVL"
      }
    },
    {
      "cell_type": "code",
      "source": [
        "!pip freeze | grep -E '^numpy|^torch|^datasets|^transformers|^evaluate'"
      ],
      "metadata": {
        "colab": {
          "base_uri": "https://localhost:8080/"
        },
        "id": "F8qXGPp1JYAe",
        "outputId": "18e132b9-db0c-402b-f54c-1236a3c8e991"
      },
      "execution_count": null,
      "outputs": [
        {
          "output_type": "stream",
          "name": "stdout",
          "text": [
            "datasets==3.1.0\r\n",
            "evaluate==0.4.3\r\n",
            "numpy==1.26.4\r\n",
            "torch==2.5.0\r\n",
            "torchaudio==2.5.0\r\n",
            "torchvision==0.20.0\r\n",
            "transformers==4.47.0\r\n"
          ]
        }
      ]
    },
    {
      "cell_type": "markdown",
      "source": [
        "### Create the train, validation, test sets"
      ],
      "metadata": {
        "id": "4LGJAxj-Rm5R"
      }
    },
    {
      "cell_type": "markdown",
      "source": [
        "Convert the DataFrame to a Dataset."
      ],
      "metadata": {
        "id": "pvn0C21dRUll"
      }
    },
    {
      "cell_type": "code",
      "source": [
        "import pandas as pd\n",
        "from datasets import Dataset\n",
        "\n",
        "# Convert the DataFrame to a Hugging Face Dataset\n",
        "dataset = Dataset.from_pandas(all_df)\n",
        "\n",
        "# Display the dataset\n",
        "print(dataset)"
      ],
      "metadata": {
        "colab": {
          "base_uri": "https://localhost:8080/"
        },
        "id": "EPMl03TFJKbP",
        "outputId": "3e2b6aa4-f226-4842-f3c9-d4df6826fa46"
      },
      "execution_count": null,
      "outputs": [
        {
          "output_type": "stream",
          "name": "stdout",
          "text": [
            "Dataset({\n",
            "    features: ['text', 'label'],\n",
            "    num_rows: 600\n",
            "})\n"
          ]
        }
      ]
    },
    {
      "cell_type": "markdown",
      "source": [
        "Split the dataset into train (80%) and test (20%) sets."
      ],
      "metadata": {
        "id": "8jyrKrFgRsnr"
      }
    },
    {
      "cell_type": "code",
      "source": [
        "dataset = dataset.train_test_split(test_size=0.2, seed=42, shuffle=True)\n",
        "\n",
        "print(dataset)"
      ],
      "metadata": {
        "colab": {
          "base_uri": "https://localhost:8080/"
        },
        "id": "msSdidGDJOsy",
        "outputId": "27f89935-81cd-4530-9ca9-d434183949db"
      },
      "execution_count": null,
      "outputs": [
        {
          "output_type": "stream",
          "name": "stdout",
          "text": [
            "DatasetDict({\n",
            "    train: Dataset({\n",
            "        features: ['text', 'label'],\n",
            "        num_rows: 480\n",
            "    })\n",
            "    test: Dataset({\n",
            "        features: ['text', 'label'],\n",
            "        num_rows: 120\n",
            "    })\n",
            "})\n"
          ]
        }
      ]
    },
    {
      "cell_type": "markdown",
      "source": [
        "Split the test set (20%) into test (10%) and val (10%) sets."
      ],
      "metadata": {
        "id": "5duFuF37SLyu"
      }
    },
    {
      "cell_type": "code",
      "source": [
        "# Split the 'test' dataset into validation and test subsets\n",
        "validation_test_split = dataset['test'].train_test_split(test_size=60, seed=42, shuffle=True)\n",
        "\n",
        "# Add the new splits to the dataset dictionary\n",
        "dataset['val'] = validation_test_split['train']\n",
        "dataset['test'] = validation_test_split['test']\n",
        "\n",
        "print(dataset)"
      ],
      "metadata": {
        "colab": {
          "base_uri": "https://localhost:8080/"
        },
        "id": "MgYErCa8JiKh",
        "outputId": "f3bd935b-6b92-4281-dfbc-41bf3025fb53"
      },
      "execution_count": null,
      "outputs": [
        {
          "output_type": "stream",
          "name": "stdout",
          "text": [
            "DatasetDict({\n",
            "    train: Dataset({\n",
            "        features: ['text', 'label'],\n",
            "        num_rows: 480\n",
            "    })\n",
            "    test: Dataset({\n",
            "        features: ['text', 'label'],\n",
            "        num_rows: 60\n",
            "    })\n",
            "    val: Dataset({\n",
            "        features: ['text', 'label'],\n",
            "        num_rows: 60\n",
            "    })\n",
            "})\n"
          ]
        }
      ]
    },
    {
      "cell_type": "markdown",
      "source": [
        "### Tokenizing our dataset with the BERT's Fast Tokenizer"
      ],
      "metadata": {
        "id": "hxh1_ntgTJ-y"
      }
    },
    {
      "cell_type": "code",
      "source": [
        "# import the pretrained faster tokenizer from huggingface\n",
        "# source: (https://huggingface.co/distilbert-base-uncased)\n",
        "\n",
        "from transformers import AutoTokenizer\n",
        "\n",
        "checkpoint = 'distilbert-base-uncased'\n",
        "tokenizer = AutoTokenizer.from_pretrained(checkpoint, use_fast=True)\n",
        "tokenizer"
      ],
      "metadata": {
        "colab": {
          "base_uri": "https://localhost:8080/"
        },
        "id": "Lvu7ExQQJ_V7",
        "outputId": "f720ff94-cb72-4f13-da97-e0ad542884f7"
      },
      "execution_count": null,
      "outputs": [
        {
          "output_type": "execute_result",
          "data": {
            "text/plain": [
              "DistilBertTokenizerFast(name_or_path='distilbert-base-uncased', vocab_size=30522, model_max_length=512, is_fast=True, padding_side='right', truncation_side='right', special_tokens={'unk_token': '[UNK]', 'sep_token': '[SEP]', 'pad_token': '[PAD]', 'cls_token': '[CLS]', 'mask_token': '[MASK]'}, clean_up_tokenization_spaces=False, added_tokens_decoder={\n",
              "\t0: AddedToken(\"[PAD]\", rstrip=False, lstrip=False, single_word=False, normalized=False, special=True),\n",
              "\t100: AddedToken(\"[UNK]\", rstrip=False, lstrip=False, single_word=False, normalized=False, special=True),\n",
              "\t101: AddedToken(\"[CLS]\", rstrip=False, lstrip=False, single_word=False, normalized=False, special=True),\n",
              "\t102: AddedToken(\"[SEP]\", rstrip=False, lstrip=False, single_word=False, normalized=False, special=True),\n",
              "\t103: AddedToken(\"[MASK]\", rstrip=False, lstrip=False, single_word=False, normalized=False, special=True),\n",
              "}\n",
              ")"
            ]
          },
          "metadata": {},
          "execution_count": 15
        }
      ]
    },
    {
      "cell_type": "markdown",
      "source": [
        "Tokenize the text in batches with truncation and padding based on BERT requirements."
      ],
      "metadata": {
        "id": "VIumcO9KTXdU"
      }
    },
    {
      "cell_type": "code",
      "source": [
        "def tokenization(example):\n",
        "    return tokenizer(example['text'], truncation=True, padding=True)\n",
        "\n",
        "tokenized_dataset = dataset.map(tokenization, batched=True, remove_columns=['text'])\n",
        "tokenized_dataset"
      ],
      "metadata": {
        "colab": {
          "base_uri": "https://localhost:8080/",
          "height": 267,
          "referenced_widgets": [
            "6410c8da08ce4959a5c11c3fe3dfd201",
            "ab9eef1bc2884bb5bfbe96abfb1f777f",
            "717f52cefee44c7eb38078d5abdc786f",
            "59c07c24bc66481fab0f14871a2daa4d",
            "5cded71e732c413abc84bb78029c026c",
            "86451635454d4b0ebdaaf560aed1e647",
            "1d9624f363544de38485c763ea6dbc14",
            "e471d73f1fbe43acae2c6d5182792f00",
            "c3e35a262c214bbe82bee53248992ce5",
            "e28a853e88e44d77a157b9753a20c45c",
            "2d2fe422511b4527be5daeb779b7465c",
            "6807c64dace444c29f5c253a60524706",
            "0d13dd4602ce4de2b4b1bbdd02b9c4b9",
            "2178e799cbe3493da694b46321295cb7",
            "085d5d27cec24ed3a3b269a5f80fca00",
            "d322f8ccd33c4c38bc2a05e608c05f52",
            "19094a286f2d4681a98cac1cbd0957ef",
            "ab14994d204e4735a839506d0975ae1a",
            "f6232986d99c479c82461b2a5dbbda40",
            "319feb430dbf493d8f6a3eb918712849",
            "61f57c1243424b929958f6b15168fa09",
            "3bcd4f8fdfd141c8b011a2a831603d63",
            "bf5797f00e684ee8bfde0ef296ab6747",
            "a80888e1478c4d429e356f29da22cb67",
            "f0cda59b7d204226b3be9afc6b14c99c",
            "4bb6587e68cf4a5791f3890b8b8d760a",
            "352802bb555d4ada88921bece4121390",
            "b6b81dff34324f10a73243d7d34f4b0b",
            "d9104f4b27114e20bc1db0bb2552b84b",
            "ff09d2a92aed43e3bd9e5a605130242d",
            "2294522996bc4769bc963f01f0b2dad2",
            "20bffdd0f3a24104afedf34a314e8d16",
            "688f47fff8e1457fa4a8e3d04c26c3eb"
          ]
        },
        "id": "lrQbfPvMKBvi",
        "outputId": "49a0eacd-4a83-448d-f6fe-bb3a22d3c8bb"
      },
      "execution_count": null,
      "outputs": [
        {
          "output_type": "display_data",
          "data": {
            "text/plain": [
              "Map:   0%|          | 0/480 [00:00<?, ? examples/s]"
            ],
            "application/vnd.jupyter.widget-view+json": {
              "version_major": 2,
              "version_minor": 0,
              "model_id": "6410c8da08ce4959a5c11c3fe3dfd201"
            }
          },
          "metadata": {}
        },
        {
          "output_type": "display_data",
          "data": {
            "text/plain": [
              "Map:   0%|          | 0/60 [00:00<?, ? examples/s]"
            ],
            "application/vnd.jupyter.widget-view+json": {
              "version_major": 2,
              "version_minor": 0,
              "model_id": "6807c64dace444c29f5c253a60524706"
            }
          },
          "metadata": {}
        },
        {
          "output_type": "display_data",
          "data": {
            "text/plain": [
              "Map:   0%|          | 0/60 [00:00<?, ? examples/s]"
            ],
            "application/vnd.jupyter.widget-view+json": {
              "version_major": 2,
              "version_minor": 0,
              "model_id": "bf5797f00e684ee8bfde0ef296ab6747"
            }
          },
          "metadata": {}
        },
        {
          "output_type": "execute_result",
          "data": {
            "text/plain": [
              "DatasetDict({\n",
              "    train: Dataset({\n",
              "        features: ['label', 'input_ids', 'attention_mask'],\n",
              "        num_rows: 480\n",
              "    })\n",
              "    test: Dataset({\n",
              "        features: ['label', 'input_ids', 'attention_mask'],\n",
              "        num_rows: 60\n",
              "    })\n",
              "    val: Dataset({\n",
              "        features: ['label', 'input_ids', 'attention_mask'],\n",
              "        num_rows: 60\n",
              "    })\n",
              "})"
            ]
          },
          "metadata": {},
          "execution_count": 16
        }
      ]
    },
    {
      "cell_type": "markdown",
      "source": [
        "### Setup Training Metrics (Accuracy, F1)"
      ],
      "metadata": {
        "id": "M3nFn5GHTjT9"
      }
    },
    {
      "cell_type": "code",
      "source": [
        "import evaluate\n",
        "import numpy as np\n",
        "\n",
        "# setup the training to evaluate the accuracy and f1 scores\n",
        "\n",
        "accuracy_metric = evaluate.load('accuracy')\n",
        "f1_metric = evaluate.load('f1')\n",
        "\n",
        "def compute_metrics(eval_pred):\n",
        "    logits, labels = eval_pred\n",
        "    predictions = np.argmax(logits, axis=-1)\n",
        "    accuracy = accuracy_metric.compute(predictions=predictions, references=labels)\n",
        "    f1 = f1_metric.compute(predictions=predictions, references=labels, average='micro')\n",
        "    return {**accuracy, **f1}"
      ],
      "metadata": {
        "id": "xf1Tvm41KGSa"
      },
      "execution_count": null,
      "outputs": []
    },
    {
      "cell_type": "markdown",
      "source": [
        "### Setup Training Configurations"
      ],
      "metadata": {
        "id": "76TquH0RT6j5"
      }
    },
    {
      "cell_type": "markdown",
      "source": [
        "Install transformers and accelerate."
      ],
      "metadata": {
        "id": "hILIa3VvUmfu"
      }
    },
    {
      "cell_type": "code",
      "source": [
        "pip install transformers accelerate -U"
      ],
      "metadata": {
        "colab": {
          "base_uri": "https://localhost:8080/"
        },
        "collapsed": true,
        "id": "NQ7yCIbSKMm8",
        "outputId": "0d581670-8bdf-4618-9c79-22541fdd5316"
      },
      "execution_count": null,
      "outputs": [
        {
          "output_type": "stream",
          "name": "stderr",
          "text": [
            "huggingface/tokenizers: The current process just got forked, after parallelism has already been used. Disabling parallelism to avoid deadlocks...\n",
            "To disable this warning, you can either:\n",
            "\t- Avoid using `tokenizers` before the fork if possible\n",
            "\t- Explicitly set the environment variable TOKENIZERS_PARALLELISM=(true | false)\n"
          ]
        },
        {
          "output_type": "stream",
          "name": "stdout",
          "text": [
            "Requirement already satisfied: transformers in /Library/Frameworks/Python.framework/Versions/3.11/lib/python3.11/site-packages (4.47.0)\n",
            "Requirement already satisfied: accelerate in /Library/Frameworks/Python.framework/Versions/3.11/lib/python3.11/site-packages (1.1.1)\n",
            "Collecting accelerate\n",
            "  Downloading accelerate-1.2.0-py3-none-any.whl.metadata (19 kB)\n",
            "Requirement already satisfied: filelock in /Library/Frameworks/Python.framework/Versions/3.11/lib/python3.11/site-packages (from transformers) (3.16.1)\n",
            "Requirement already satisfied: huggingface-hub<1.0,>=0.24.0 in /Library/Frameworks/Python.framework/Versions/3.11/lib/python3.11/site-packages (from transformers) (0.26.2)\n",
            "Requirement already satisfied: numpy>=1.17 in /Library/Frameworks/Python.framework/Versions/3.11/lib/python3.11/site-packages (from transformers) (1.26.4)\n",
            "Requirement already satisfied: packaging>=20.0 in /Library/Frameworks/Python.framework/Versions/3.11/lib/python3.11/site-packages (from transformers) (24.1)\n",
            "Requirement already satisfied: pyyaml>=5.1 in /Library/Frameworks/Python.framework/Versions/3.11/lib/python3.11/site-packages (from transformers) (6.0.2)\n",
            "Requirement already satisfied: regex!=2019.12.17 in /Library/Frameworks/Python.framework/Versions/3.11/lib/python3.11/site-packages (from transformers) (2024.9.11)\n",
            "Requirement already satisfied: requests in /Library/Frameworks/Python.framework/Versions/3.11/lib/python3.11/site-packages (from transformers) (2.32.3)\n",
            "Requirement already satisfied: tokenizers<0.22,>=0.21 in /Library/Frameworks/Python.framework/Versions/3.11/lib/python3.11/site-packages (from transformers) (0.21.0)\n",
            "Requirement already satisfied: safetensors>=0.4.1 in /Library/Frameworks/Python.framework/Versions/3.11/lib/python3.11/site-packages (from transformers) (0.4.5)\n",
            "Requirement already satisfied: tqdm>=4.27 in /Library/Frameworks/Python.framework/Versions/3.11/lib/python3.11/site-packages (from transformers) (4.66.5)\n",
            "Requirement already satisfied: psutil in /Library/Frameworks/Python.framework/Versions/3.11/lib/python3.11/site-packages (from accelerate) (6.0.0)\n",
            "Requirement already satisfied: torch>=1.10.0 in /Library/Frameworks/Python.framework/Versions/3.11/lib/python3.11/site-packages (from accelerate) (2.5.0)\n",
            "Requirement already satisfied: fsspec>=2023.5.0 in /Library/Frameworks/Python.framework/Versions/3.11/lib/python3.11/site-packages (from huggingface-hub<1.0,>=0.24.0->transformers) (2024.9.0)\n",
            "Requirement already satisfied: typing-extensions>=3.7.4.3 in /Library/Frameworks/Python.framework/Versions/3.11/lib/python3.11/site-packages (from huggingface-hub<1.0,>=0.24.0->transformers) (4.12.2)\n",
            "Requirement already satisfied: networkx in /Library/Frameworks/Python.framework/Versions/3.11/lib/python3.11/site-packages (from torch>=1.10.0->accelerate) (3.4.2)\n",
            "Requirement already satisfied: jinja2 in /Library/Frameworks/Python.framework/Versions/3.11/lib/python3.11/site-packages (from torch>=1.10.0->accelerate) (3.1.4)\n",
            "Requirement already satisfied: sympy==1.13.1 in /Library/Frameworks/Python.framework/Versions/3.11/lib/python3.11/site-packages (from torch>=1.10.0->accelerate) (1.13.1)\n",
            "Requirement already satisfied: mpmath<1.4,>=1.1.0 in /Library/Frameworks/Python.framework/Versions/3.11/lib/python3.11/site-packages (from sympy==1.13.1->torch>=1.10.0->accelerate) (1.3.0)\n",
            "Requirement already satisfied: charset-normalizer<4,>=2 in /Library/Frameworks/Python.framework/Versions/3.11/lib/python3.11/site-packages (from requests->transformers) (3.3.2)\n",
            "Requirement already satisfied: idna<4,>=2.5 in /Library/Frameworks/Python.framework/Versions/3.11/lib/python3.11/site-packages (from requests->transformers) (3.10)\n",
            "Requirement already satisfied: urllib3<3,>=1.21.1 in /Library/Frameworks/Python.framework/Versions/3.11/lib/python3.11/site-packages (from requests->transformers) (1.26.20)\n",
            "Requirement already satisfied: certifi>=2017.4.17 in /Library/Frameworks/Python.framework/Versions/3.11/lib/python3.11/site-packages (from requests->transformers) (2024.8.30)\n",
            "Requirement already satisfied: MarkupSafe>=2.0 in /Library/Frameworks/Python.framework/Versions/3.11/lib/python3.11/site-packages (from jinja2->torch>=1.10.0->accelerate) (2.1.5)\n",
            "Downloading accelerate-1.2.0-py3-none-any.whl (336 kB)\n",
            "Installing collected packages: accelerate\n",
            "  Attempting uninstall: accelerate\n",
            "    Found existing installation: accelerate 1.1.1\n",
            "    Uninstalling accelerate-1.1.1:\n",
            "      Successfully uninstalled accelerate-1.1.1\n",
            "Successfully installed accelerate-1.2.0\n",
            "Note: you may need to restart the kernel to use updated packages.\n"
          ]
        }
      ]
    },
    {
      "cell_type": "code",
      "source": [
        "pip install 'accelerate>=0.26.0'"
      ],
      "metadata": {
        "colab": {
          "base_uri": "https://localhost:8080/"
        },
        "collapsed": true,
        "id": "9MRdjrORKP2H",
        "outputId": "3ef76e3f-5fdb-4ef5-d798-66eacaa4157d"
      },
      "execution_count": null,
      "outputs": [
        {
          "output_type": "stream",
          "name": "stderr",
          "text": [
            "huggingface/tokenizers: The current process just got forked, after parallelism has already been used. Disabling parallelism to avoid deadlocks...\n",
            "To disable this warning, you can either:\n",
            "\t- Avoid using `tokenizers` before the fork if possible\n",
            "\t- Explicitly set the environment variable TOKENIZERS_PARALLELISM=(true | false)\n"
          ]
        },
        {
          "output_type": "stream",
          "name": "stdout",
          "text": [
            "Requirement already satisfied: accelerate>=0.26.0 in /Library/Frameworks/Python.framework/Versions/3.11/lib/python3.11/site-packages (1.2.0)\r\n",
            "Requirement already satisfied: numpy<3.0.0,>=1.17 in /Library/Frameworks/Python.framework/Versions/3.11/lib/python3.11/site-packages (from accelerate>=0.26.0) (1.26.4)\r\n",
            "Requirement already satisfied: packaging>=20.0 in /Library/Frameworks/Python.framework/Versions/3.11/lib/python3.11/site-packages (from accelerate>=0.26.0) (24.1)\r\n",
            "Requirement already satisfied: psutil in /Library/Frameworks/Python.framework/Versions/3.11/lib/python3.11/site-packages (from accelerate>=0.26.0) (6.0.0)\r\n",
            "Requirement already satisfied: pyyaml in /Library/Frameworks/Python.framework/Versions/3.11/lib/python3.11/site-packages (from accelerate>=0.26.0) (6.0.2)\r\n",
            "Requirement already satisfied: torch>=1.10.0 in /Library/Frameworks/Python.framework/Versions/3.11/lib/python3.11/site-packages (from accelerate>=0.26.0) (2.5.0)\r\n",
            "Requirement already satisfied: huggingface-hub>=0.21.0 in /Library/Frameworks/Python.framework/Versions/3.11/lib/python3.11/site-packages (from accelerate>=0.26.0) (0.26.2)\r\n",
            "Requirement already satisfied: safetensors>=0.4.3 in /Library/Frameworks/Python.framework/Versions/3.11/lib/python3.11/site-packages (from accelerate>=0.26.0) (0.4.5)\r\n",
            "Requirement already satisfied: filelock in /Library/Frameworks/Python.framework/Versions/3.11/lib/python3.11/site-packages (from huggingface-hub>=0.21.0->accelerate>=0.26.0) (3.16.1)\r\n",
            "Requirement already satisfied: fsspec>=2023.5.0 in /Library/Frameworks/Python.framework/Versions/3.11/lib/python3.11/site-packages (from huggingface-hub>=0.21.0->accelerate>=0.26.0) (2024.9.0)\r\n",
            "Requirement already satisfied: requests in /Library/Frameworks/Python.framework/Versions/3.11/lib/python3.11/site-packages (from huggingface-hub>=0.21.0->accelerate>=0.26.0) (2.32.3)\r\n",
            "Requirement already satisfied: tqdm>=4.42.1 in /Library/Frameworks/Python.framework/Versions/3.11/lib/python3.11/site-packages (from huggingface-hub>=0.21.0->accelerate>=0.26.0) (4.66.5)\r\n",
            "Requirement already satisfied: typing-extensions>=3.7.4.3 in /Library/Frameworks/Python.framework/Versions/3.11/lib/python3.11/site-packages (from huggingface-hub>=0.21.0->accelerate>=0.26.0) (4.12.2)\r\n",
            "Requirement already satisfied: networkx in /Library/Frameworks/Python.framework/Versions/3.11/lib/python3.11/site-packages (from torch>=1.10.0->accelerate>=0.26.0) (3.4.2)\r\n",
            "Requirement already satisfied: jinja2 in /Library/Frameworks/Python.framework/Versions/3.11/lib/python3.11/site-packages (from torch>=1.10.0->accelerate>=0.26.0) (3.1.4)\r\n",
            "Requirement already satisfied: sympy==1.13.1 in /Library/Frameworks/Python.framework/Versions/3.11/lib/python3.11/site-packages (from torch>=1.10.0->accelerate>=0.26.0) (1.13.1)\r\n",
            "Requirement already satisfied: mpmath<1.4,>=1.1.0 in /Library/Frameworks/Python.framework/Versions/3.11/lib/python3.11/site-packages (from sympy==1.13.1->torch>=1.10.0->accelerate>=0.26.0) (1.3.0)\r\n",
            "Requirement already satisfied: MarkupSafe>=2.0 in /Library/Frameworks/Python.framework/Versions/3.11/lib/python3.11/site-packages (from jinja2->torch>=1.10.0->accelerate>=0.26.0) (2.1.5)\n",
            "Requirement already satisfied: charset-normalizer<4,>=2 in /Library/Frameworks/Python.framework/Versions/3.11/lib/python3.11/site-packages (from requests->huggingface-hub>=0.21.0->accelerate>=0.26.0) (3.3.2)\n",
            "Requirement already satisfied: idna<4,>=2.5 in /Library/Frameworks/Python.framework/Versions/3.11/lib/python3.11/site-packages (from requests->huggingface-hub>=0.21.0->accelerate>=0.26.0) (3.10)\n",
            "Requirement already satisfied: urllib3<3,>=1.21.1 in /Library/Frameworks/Python.framework/Versions/3.11/lib/python3.11/site-packages (from requests->huggingface-hub>=0.21.0->accelerate>=0.26.0) (1.26.20)\n",
            "Requirement already satisfied: certifi>=2017.4.17 in /Library/Frameworks/Python.framework/Versions/3.11/lib/python3.11/site-packages (from requests->huggingface-hub>=0.21.0->accelerate>=0.26.0) (2024.8.30)\n",
            "Note: you may need to restart the kernel to use updated packages.\n"
          ]
        }
      ]
    },
    {
      "cell_type": "markdown",
      "source": [
        "Setup Training Configurations."
      ],
      "metadata": {
        "id": "hWNZ6FUgUrkk"
      }
    },
    {
      "cell_type": "code",
      "source": [
        "import os\n",
        "from transformers import AutoModelForSequenceClassification, Trainer, TrainingArguments\n",
        "\n",
        "# source: (https://huggingface.co/distilbert-base-uncased)\n",
        "checkpoint = 'distilbert-base-uncased'\n",
        "num_labels = 5\n",
        "id2label = {0:'Children', 1:'Craft', 2:'Food', 3:'Thrillers', 4: 'Travel'}\n",
        "label2id = {'Children':0, 'Craft':1, 'Food':2, 'Thrillers':3, 'Travel': 4}\n",
        "model = AutoModelForSequenceClassification.from_pretrained(checkpoint, num_labels=num_labels, id2label=id2label, label2id=label2id)\n",
        "\n",
        "# setup custom training arguments\n",
        "# 1. store training checkpoints to 'results' output directory\n",
        "# 2. fine-tune for just 1 epoch\n",
        "# 3,4. use 16 as a batch size to speed things up\n",
        "# 5. evaluate validation set every 500 steps (this is the default steps)\n",
        "# 6. load the best model based on the lowest validation loss at the end of training\n",
        "training_args = TrainingArguments(\n",
        "    seed=42,\n",
        "    output_dir='./results',\n",
        "    num_train_epochs=5,\n",
        "    per_device_train_batch_size=16,\n",
        "    per_device_eval_batch_size=16,\n",
        "    evaluation_strategy='steps',\n",
        "    eval_steps=50,\n",
        "    save_steps=50,\n",
        "    save_total_limit=2,\n",
        "    learning_rate=3e-5,\n",
        "    weight_decay=0.01,\n",
        "    load_best_model_at_end=True,\n",
        "    metric_for_best_model=\"eval_loss\",  # Use validation loss to determine best model\n",
        "    greater_is_better=False,\n",
        ")\n",
        "\n",
        "# setup trainer with custom metrics (accuracy, f1)\n",
        "trainer = Trainer(\n",
        "    model=model,\n",
        "    args=training_args,\n",
        "    train_dataset=tokenized_dataset['train'],\n",
        "    eval_dataset=tokenized_dataset['val'],\n",
        "    compute_metrics=compute_metrics,\n",
        ")\n",
        "\n",
        "# disable wandb logging (a v4 huggingface artifact)\n",
        "os.environ['WANDB_DISABLED']= \"true\""
      ],
      "metadata": {
        "colab": {
          "base_uri": "https://localhost:8080/"
        },
        "id": "6gE4E-LzKSjU",
        "outputId": "2c5fda46-a4b3-490b-bd37-0d240db54356"
      },
      "execution_count": null,
      "outputs": [
        {
          "output_type": "stream",
          "name": "stderr",
          "text": [
            "Some weights of DistilBertForSequenceClassification were not initialized from the model checkpoint at distilbert-base-uncased and are newly initialized: ['classifier.bias', 'classifier.weight', 'pre_classifier.bias', 'pre_classifier.weight']\n",
            "You should probably TRAIN this model on a down-stream task to be able to use it for predictions and inference.\n",
            "/Library/Frameworks/Python.framework/Versions/3.11/lib/python3.11/site-packages/transformers/training_args.py:1575: FutureWarning: `evaluation_strategy` is deprecated and will be removed in version 4.46 of 🤗 Transformers. Use `eval_strategy` instead\n",
            "  warnings.warn(\n"
          ]
        }
      ]
    },
    {
      "cell_type": "markdown",
      "source": [
        "### Evaluate UnFine-Tuned BERT on Test Set for a Baseline Metric"
      ],
      "metadata": {
        "id": "1xxUOL7sU2O_"
      }
    },
    {
      "cell_type": "code",
      "source": [
        "# evaluate unfine-tuned model with test set\n",
        "\n",
        "trainer.evaluate(tokenized_dataset['test'])"
      ],
      "metadata": {
        "colab": {
          "base_uri": "https://localhost:8080/",
          "height": 162
        },
        "id": "B_EYLS_QKa8L",
        "outputId": "218e42dd-10b6-46d4-8aad-435669a00032"
      },
      "execution_count": null,
      "outputs": [
        {
          "output_type": "display_data",
          "data": {
            "text/plain": [
              "<IPython.core.display.HTML object>"
            ],
            "text/html": [
              "\n",
              "    <div>\n",
              "      \n",
              "      <progress value='4' max='4' style='width:300px; height:20px; vertical-align: middle;'></progress>\n",
              "      [4/4 00:01]\n",
              "    </div>\n",
              "    "
            ]
          },
          "metadata": {}
        },
        {
          "output_type": "execute_result",
          "data": {
            "text/plain": [
              "{'eval_loss': 1.6110988855361938,\n",
              " 'eval_model_preparation_time': 0.0016,\n",
              " 'eval_accuracy': 0.2,\n",
              " 'eval_f1': 0.2,\n",
              " 'eval_runtime': 13.7313,\n",
              " 'eval_samples_per_second': 4.37,\n",
              " 'eval_steps_per_second': 0.291}"
            ]
          },
          "metadata": {},
          "execution_count": 21
        }
      ]
    },
    {
      "cell_type": "markdown",
      "source": [
        "Without fine-tuning BERT, our model currently has around 20% Accuracy (eval_accuracy) and 20% F1 (eval_f1), which is pretty bad and may suggest that the model is probably guessing its answers.\n",
        "\n",
        "We will make it better with transfer learning below."
      ],
      "metadata": {
        "id": "XWKNb2MEVAeX"
      }
    },
    {
      "cell_type": "markdown",
      "source": [
        "### Fine-Tune BERT with Our Book Cover Dataset"
      ],
      "metadata": {
        "id": "oIAAIxgbVxsv"
      }
    },
    {
      "cell_type": "markdown",
      "source": [
        "Train the model with the Training Arguments (hyperparameters) provided above."
      ],
      "metadata": {
        "id": "qfA8diEpV-Xf"
      }
    },
    {
      "cell_type": "code",
      "source": [
        "trainer.train()"
      ],
      "metadata": {
        "colab": {
          "base_uri": "https://localhost:8080/",
          "height": 243
        },
        "id": "UfI-xYP6Kgdr",
        "outputId": "df0cc589-8797-4562-8a70-af3d5c4aed97"
      },
      "execution_count": null,
      "outputs": [
        {
          "output_type": "display_data",
          "data": {
            "text/plain": [
              "<IPython.core.display.HTML object>"
            ],
            "text/html": [
              "\n",
              "    <div>\n",
              "      \n",
              "      <progress value='150' max='150' style='width:300px; height:20px; vertical-align: middle;'></progress>\n",
              "      [150/150 01:17, Epoch 5/5]\n",
              "    </div>\n",
              "    <table border=\"1\" class=\"dataframe\">\n",
              "  <thead>\n",
              " <tr style=\"text-align: left;\">\n",
              "      <th>Step</th>\n",
              "      <th>Training Loss</th>\n",
              "      <th>Validation Loss</th>\n",
              "      <th>Model Preparation Time</th>\n",
              "      <th>Accuracy</th>\n",
              "      <th>F1</th>\n",
              "    </tr>\n",
              "  </thead>\n",
              "  <tbody>\n",
              "    <tr>\n",
              "      <td>50</td>\n",
              "      <td>No log</td>\n",
              "      <td>0.998200</td>\n",
              "      <td>0.001600</td>\n",
              "      <td>0.766667</td>\n",
              "      <td>0.766667</td>\n",
              "    </tr>\n",
              "    <tr>\n",
              "      <td>100</td>\n",
              "      <td>No log</td>\n",
              "      <td>0.603894</td>\n",
              "      <td>0.001600</td>\n",
              "      <td>0.816667</td>\n",
              "      <td>0.816667</td>\n",
              "    </tr>\n",
              "    <tr>\n",
              "      <td>150</td>\n",
              "      <td>No log</td>\n",
              "      <td>0.548829</td>\n",
              "      <td>0.001600</td>\n",
              "      <td>0.850000</td>\n",
              "      <td>0.850000</td>\n",
              "    </tr>\n",
              "  </tbody>\n",
              "</table><p>"
            ]
          },
          "metadata": {}
        },
        {
          "output_type": "display_data",
          "data": {
            "text/plain": [
              "<IPython.core.display.HTML object>"
            ],
            "text/html": [
              "\n",
              "    <div>\n",
              "      \n",
              "      <progress value='8' max='4' style='width:300px; height:20px; vertical-align: middle;'></progress>\n",
              "      [4/4 00:54]\n",
              "    </div>\n",
              "    "
            ]
          },
          "metadata": {}
        },
        {
          "output_type": "execute_result",
          "data": {
            "text/plain": [
              "TrainOutput(global_step=150, training_loss=0.7610662841796875, metrics={'train_runtime': 82.2987, 'train_samples_per_second': 29.162, 'train_steps_per_second': 1.823, 'total_flos': 87557355432000.0, 'train_loss': 0.7610662841796875, 'epoch': 5.0})"
            ]
          },
          "metadata": {},
          "execution_count": 22
        }
      ]
    },
    {
      "cell_type": "markdown",
      "source": [
        "Test the trained model again with our test set."
      ],
      "metadata": {
        "id": "VSKycHm4Wxji"
      }
    },
    {
      "cell_type": "code",
      "source": [
        "trainer.evaluate(tokenized_dataset['test'])"
      ],
      "metadata": {
        "colab": {
          "base_uri": "https://localhost:8080/",
          "height": 180
        },
        "id": "lq8KYwqGK5es",
        "outputId": "2254d34b-d461-4073-f8a5-7c9a7e073679"
      },
      "execution_count": null,
      "outputs": [
        {
          "output_type": "display_data",
          "data": {
            "text/plain": [
              "<IPython.core.display.HTML object>"
            ],
            "text/html": [
              "\n",
              "    <div>\n",
              "      \n",
              "      <progress value='4' max='4' style='width:300px; height:20px; vertical-align: middle;'></progress>\n",
              "      [4/4 00:00]\n",
              "    </div>\n",
              "    "
            ]
          },
          "metadata": {}
        },
        {
          "output_type": "execute_result",
          "data": {
            "text/plain": [
              "{'eval_loss': 0.4925483465194702,\n",
              " 'eval_model_preparation_time': 0.0016,\n",
              " 'eval_accuracy': 0.8166666666666667,\n",
              " 'eval_f1': 0.8166666666666667,\n",
              " 'eval_runtime': 2.3744,\n",
              " 'eval_samples_per_second': 25.269,\n",
              " 'eval_steps_per_second': 1.685,\n",
              " 'epoch': 5.0}"
            ]
          },
          "metadata": {},
          "execution_count": 23
        }
      ]
    },
    {
      "cell_type": "markdown",
      "source": [
        "We got a 81.6% Accuracy (eval_accuracy) and 81.6% F1 (eval_f1) with 5 epochs."
      ],
      "metadata": {
        "id": "6Wqz0K4tXCM7"
      }
    },
    {
      "cell_type": "markdown",
      "source": [
        "## Try out the trained model with some book cover examples"
      ],
      "metadata": {
        "id": "7cNmDxLZXgRR"
      }
    },
    {
      "cell_type": "markdown",
      "source": [
        "Create pipeline for text classification with our custom model and tokenizer."
      ],
      "metadata": {
        "id": "6w_L7jXNX3I3"
      }
    },
    {
      "cell_type": "code",
      "source": [
        "from transformers import pipeline\n",
        "\n",
        "# Set the device to CPU (-1 means CPU in Hugging Face Transformers)\n",
        "device = -1\n",
        "\n",
        "# Create pipeline for text classification\n",
        "book_classifier = pipeline(\n",
        "    task=\"text-classification\",\n",
        "    model=model,\n",
        "    tokenizer=tokenizer,\n",
        "    device=device,\n",
        "    top_k=None\n",
        ")"
      ],
      "metadata": {
        "colab": {
          "base_uri": "https://localhost:8080/"
        },
        "id": "bLNxfXf1LBTZ",
        "outputId": "76b8876d-3487-4670-a96c-74b08eb1ae16"
      },
      "execution_count": 326,
      "outputs": [
        {
          "output_type": "stream",
          "name": "stderr",
          "text": [
            "Device set to use mps:0\n"
          ]
        }
      ]
    },
    {
      "cell_type": "markdown",
      "source": [
        "Test the pipeline with different book titles of the 5 book genres."
      ],
      "metadata": {
        "id": "_2jBFHVaYZMg"
      }
    },
    {
      "cell_type": "code",
      "source": [
        "# Example genre: Children\n",
        "result = book_classifier(\"How the Grinch Stole Christmas!\")\n",
        "print(result)"
      ],
      "metadata": {
        "colab": {
          "base_uri": "https://localhost:8080/"
        },
        "id": "cKHzwLsuLJl8",
        "outputId": "e9c986b3-4141-40fd-82d1-e32b7095490c"
      },
      "execution_count": null,
      "outputs": [
        {
          "output_type": "stream",
          "name": "stdout",
          "text": [
            "[{'label': 'Children', 'score': 0.5279607176780701}]\n"
          ]
        }
      ]
    },
    {
      "cell_type": "code",
      "source": [
        "# Example genre: Craft\n",
        "result = book_classifier(\"How to DIY My Own Set of Christmas Cards?\")\n",
        "print(result)"
      ],
      "metadata": {
        "colab": {
          "base_uri": "https://localhost:8080/"
        },
        "id": "1i1lTa7ZZRhd",
        "outputId": "fa21a157-7de1-4984-80af-bd2f30d29b25"
      },
      "execution_count": null,
      "outputs": [
        {
          "output_type": "stream",
          "name": "stdout",
          "text": [
            "[{'label': 'Craft', 'score': 0.7123519778251648}]\n"
          ]
        }
      ]
    },
    {
      "cell_type": "code",
      "source": [
        "# Example genre: Food\n",
        "result = book_classifier(\"Savoring the World: A Culinary Journey Through Global Flavors\")\n",
        "print(result)"
      ],
      "metadata": {
        "colab": {
          "base_uri": "https://localhost:8080/"
        },
        "id": "kFfcpKiKbbIk",
        "outputId": "a2713d9b-efd6-4986-8303-c738b0456d77"
      },
      "execution_count": null,
      "outputs": [
        {
          "output_type": "stream",
          "name": "stdout",
          "text": [
            "[{'label': 'Food', 'score': 0.9075581431388855}]\n"
          ]
        }
      ]
    },
    {
      "cell_type": "code",
      "source": [
        "# Example genre: Thrillers\n",
        "result = book_classifier(\"The Woman in the Window\")\n",
        "print(result)"
      ],
      "metadata": {
        "colab": {
          "base_uri": "https://localhost:8080/"
        },
        "id": "f174glFJZ4hL",
        "outputId": "a81e2b06-7bc7-4c4c-b463-217d519558e7"
      },
      "execution_count": null,
      "outputs": [
        {
          "output_type": "stream",
          "name": "stdout",
          "text": [
            "[{'label': 'Thrillers', 'score': 0.6432331204414368}]\n"
          ]
        }
      ]
    },
    {
      "cell_type": "code",
      "source": [
        "# Example genre: Travel\n",
        "result = book_classifier(\"Where to Next? Road to South America's Untamed Edge\")\n",
        "print(result)"
      ],
      "metadata": {
        "colab": {
          "base_uri": "https://localhost:8080/"
        },
        "id": "HVm1Ewq0aSJk",
        "outputId": "a3448010-121d-42b4-d1fe-858de4ca2132"
      },
      "execution_count": null,
      "outputs": [
        {
          "output_type": "stream",
          "name": "stdout",
          "text": [
            "[{'label': 'Travel', 'score': 0.8741687536239624}]\n"
          ]
        }
      ]
    },
    {
      "cell_type": "markdown",
      "source": [
        "## Evaluate the Model Performance using Graphs and Confusion Matrixs"
      ],
      "metadata": {
        "id": "MG1jCU1Tcrc8"
      }
    },
    {
      "cell_type": "markdown",
      "source": [
        "View all results the model has predicted."
      ],
      "metadata": {
        "id": "okkRCUd6d04Y"
      }
    },
    {
      "cell_type": "code",
      "source": [
        "import matplotlib.pyplot as plt\n",
        "import numpy as np\n",
        "from sklearn.metrics import ConfusionMatrixDisplay, confusion_matrix\n",
        "\n",
        "# Define your test dataset and labels\n",
        "test_texts = dataset['test']['text']\n",
        "true_labels = dataset['test']['label']  # Replace with the actual labels for your test set\n",
        "\n",
        "# Make predictions using your Hugging Face pipeline\n",
        "predicted_results = book_classifier(test_texts)\n",
        "\n",
        "predicted_results"
      ],
      "metadata": {
        "colab": {
          "base_uri": "https://localhost:8080/"
        },
        "id": "Re5T_k_ORFrs",
        "outputId": "7c70a7a6-0517-4e85-ea1d-673a5a064c44",
        "collapsed": true
      },
      "execution_count": 327,
      "outputs": [
        {
          "output_type": "execute_result",
          "data": {
            "text/plain": [
              "[[{'label': 'Thrillers', 'score': 0.4561990797519684},\n",
              "  {'label': 'Children', 'score': 0.40035614371299744},\n",
              "  {'label': 'Food', 'score': 0.07492798566818237},\n",
              "  {'label': 'Craft', 'score': 0.04404706507921219},\n",
              "  {'label': 'Travel', 'score': 0.02446967549622059}],\n",
              " [{'label': 'Thrillers', 'score': 0.5706131458282471},\n",
              "  {'label': 'Children', 'score': 0.30987846851348877},\n",
              "  {'label': 'Travel', 'score': 0.050783153623342514},\n",
              "  {'label': 'Craft', 'score': 0.03705666586756706},\n",
              "  {'label': 'Food', 'score': 0.03166866675019264}],\n",
              " [{'label': 'Children', 'score': 0.5106430649757385},\n",
              "  {'label': 'Thrillers', 'score': 0.325622022151947},\n",
              "  {'label': 'Craft', 'score': 0.0786881148815155},\n",
              "  {'label': 'Food', 'score': 0.06420370936393738},\n",
              "  {'label': 'Travel', 'score': 0.02084309794008732}],\n",
              " [{'label': 'Thrillers', 'score': 0.651600182056427},\n",
              "  {'label': 'Children', 'score': 0.21170823276042938},\n",
              "  {'label': 'Craft', 'score': 0.07025983929634094},\n",
              "  {'label': 'Food', 'score': 0.03847725689411163},\n",
              "  {'label': 'Travel', 'score': 0.02795448899269104}],\n",
              " [{'label': 'Food', 'score': 0.929459273815155},\n",
              "  {'label': 'Craft', 'score': 0.025749363005161285},\n",
              "  {'label': 'Children', 'score': 0.022081198170781136},\n",
              "  {'label': 'Thrillers', 'score': 0.011573337018489838},\n",
              "  {'label': 'Travel', 'score': 0.011136827990412712}],\n",
              " [{'label': 'Travel', 'score': 0.7920655012130737},\n",
              "  {'label': 'Craft', 'score': 0.10333700478076935},\n",
              "  {'label': 'Children', 'score': 0.038640622049570084},\n",
              "  {'label': 'Thrillers', 'score': 0.03348305821418762},\n",
              "  {'label': 'Food', 'score': 0.032473787665367126}],\n",
              " [{'label': 'Thrillers', 'score': 0.47039464116096497},\n",
              "  {'label': 'Children', 'score': 0.25206685066223145},\n",
              "  {'label': 'Craft', 'score': 0.1739206314086914},\n",
              "  {'label': 'Travel', 'score': 0.05895445868372917},\n",
              "  {'label': 'Food', 'score': 0.04466339200735092}],\n",
              " [{'label': 'Travel', 'score': 0.6626936197280884},\n",
              "  {'label': 'Craft', 'score': 0.11715587228536606},\n",
              "  {'label': 'Children', 'score': 0.10897566378116608},\n",
              "  {'label': 'Thrillers', 'score': 0.0818052664399147},\n",
              "  {'label': 'Food', 'score': 0.029369588941335678}],\n",
              " [{'label': 'Food', 'score': 0.9321258664131165},\n",
              "  {'label': 'Craft', 'score': 0.024844150990247726},\n",
              "  {'label': 'Children', 'score': 0.02126692794263363},\n",
              "  {'label': 'Travel', 'score': 0.011172130703926086},\n",
              "  {'label': 'Thrillers', 'score': 0.01059090904891491}],\n",
              " [{'label': 'Craft', 'score': 0.8246963024139404},\n",
              "  {'label': 'Travel', 'score': 0.050649140030145645},\n",
              "  {'label': 'Children', 'score': 0.04994028061628342},\n",
              "  {'label': 'Food', 'score': 0.03815947100520134},\n",
              "  {'label': 'Thrillers', 'score': 0.036554716527462006}],\n",
              " [{'label': 'Food', 'score': 0.9252259135246277},\n",
              "  {'label': 'Children', 'score': 0.027276670560240746},\n",
              "  {'label': 'Craft', 'score': 0.023937160149216652},\n",
              "  {'label': 'Thrillers', 'score': 0.011948131956160069},\n",
              "  {'label': 'Travel', 'score': 0.011612089350819588}],\n",
              " [{'label': 'Food', 'score': 0.9333338737487793},\n",
              "  {'label': 'Craft', 'score': 0.02446497045457363},\n",
              "  {'label': 'Children', 'score': 0.020792044699192047},\n",
              "  {'label': 'Travel', 'score': 0.011287197470664978},\n",
              "  {'label': 'Thrillers', 'score': 0.010121986269950867}],\n",
              " [{'label': 'Children', 'score': 0.43854719400405884},\n",
              "  {'label': 'Thrillers', 'score': 0.4347253143787384},\n",
              "  {'label': 'Craft', 'score': 0.04851410165429115},\n",
              "  {'label': 'Travel', 'score': 0.04722863808274269},\n",
              "  {'label': 'Food', 'score': 0.030984723940491676}],\n",
              " [{'label': 'Food', 'score': 0.8896491527557373},\n",
              "  {'label': 'Craft', 'score': 0.04957688972353935},\n",
              "  {'label': 'Children', 'score': 0.03336901217699051},\n",
              "  {'label': 'Travel', 'score': 0.013893280178308487},\n",
              "  {'label': 'Thrillers', 'score': 0.013511688448488712}],\n",
              " [{'label': 'Craft', 'score': 0.8614628314971924},\n",
              "  {'label': 'Children', 'score': 0.04104047641158104},\n",
              "  {'label': 'Travel', 'score': 0.037871409207582474},\n",
              "  {'label': 'Food', 'score': 0.03158135339617729},\n",
              "  {'label': 'Thrillers', 'score': 0.028043868020176888}],\n",
              " [{'label': 'Thrillers', 'score': 0.47105708718299866},\n",
              "  {'label': 'Children', 'score': 0.39452415704727173},\n",
              "  {'label': 'Craft', 'score': 0.06721218675374985},\n",
              "  {'label': 'Travel', 'score': 0.036283377557992935},\n",
              "  {'label': 'Food', 'score': 0.030923213809728622}],\n",
              " [{'label': 'Craft', 'score': 0.686480700969696},\n",
              "  {'label': 'Food', 'score': 0.14328505098819733},\n",
              "  {'label': 'Children', 'score': 0.10274580121040344},\n",
              "  {'label': 'Thrillers', 'score': 0.03497567027807236},\n",
              "  {'label': 'Travel', 'score': 0.03251279518008232}],\n",
              " [{'label': 'Food', 'score': 0.9384263157844543},\n",
              "  {'label': 'Children', 'score': 0.019722191616892815},\n",
              "  {'label': 'Craft', 'score': 0.01910259760916233},\n",
              "  {'label': 'Travel', 'score': 0.01150158978998661},\n",
              "  {'label': 'Thrillers', 'score': 0.011247355490922928}],\n",
              " [{'label': 'Thrillers', 'score': 0.7374251484870911},\n",
              "  {'label': 'Children', 'score': 0.14303861558437347},\n",
              "  {'label': 'Travel', 'score': 0.04461938515305519},\n",
              "  {'label': 'Craft', 'score': 0.04202636331319809},\n",
              "  {'label': 'Food', 'score': 0.032890379428863525}],\n",
              " [{'label': 'Craft', 'score': 0.8514332175254822},\n",
              "  {'label': 'Children', 'score': 0.04261297732591629},\n",
              "  {'label': 'Food', 'score': 0.04177120700478554},\n",
              "  {'label': 'Travel', 'score': 0.0377095490694046},\n",
              "  {'label': 'Thrillers', 'score': 0.026473065838217735}],\n",
              " [{'label': 'Children', 'score': 0.6716076731681824},\n",
              "  {'label': 'Thrillers', 'score': 0.13711951673030853},\n",
              "  {'label': 'Food', 'score': 0.104987733066082},\n",
              "  {'label': 'Craft', 'score': 0.059100937098264694},\n",
              "  {'label': 'Travel', 'score': 0.0271841362118721}],\n",
              " [{'label': 'Travel', 'score': 0.9488022327423096},\n",
              "  {'label': 'Craft', 'score': 0.015232207253575325},\n",
              "  {'label': 'Thrillers', 'score': 0.012990026734769344},\n",
              "  {'label': 'Children', 'score': 0.011695400811731815},\n",
              "  {'label': 'Food', 'score': 0.011280125007033348}],\n",
              " [{'label': 'Thrillers', 'score': 0.7205972075462341},\n",
              "  {'label': 'Children', 'score': 0.17085887491703033},\n",
              "  {'label': 'Travel', 'score': 0.039516009390354156},\n",
              "  {'label': 'Craft', 'score': 0.03883301466703415},\n",
              "  {'label': 'Food', 'score': 0.030194930732250214}],\n",
              " [{'label': 'Food', 'score': 0.9325467944145203},\n",
              "  {'label': 'Children', 'score': 0.02424776554107666},\n",
              "  {'label': 'Craft', 'score': 0.020279882475733757},\n",
              "  {'label': 'Thrillers', 'score': 0.011987436562776566},\n",
              "  {'label': 'Travel', 'score': 0.010938135907053947}],\n",
              " [{'label': 'Travel', 'score': 0.8919299244880676},\n",
              "  {'label': 'Craft', 'score': 0.04962117597460747},\n",
              "  {'label': 'Thrillers', 'score': 0.02010228857398033},\n",
              "  {'label': 'Food', 'score': 0.019808342680335045},\n",
              "  {'label': 'Children', 'score': 0.018538329750299454}],\n",
              " [{'label': 'Travel', 'score': 0.9500935673713684},\n",
              "  {'label': 'Craft', 'score': 0.014348008669912815},\n",
              "  {'label': 'Thrillers', 'score': 0.012927045114338398},\n",
              "  {'label': 'Children', 'score': 0.011636865325272083},\n",
              "  {'label': 'Food', 'score': 0.010994503274559975}],\n",
              " [{'label': 'Food', 'score': 0.9396998882293701},\n",
              "  {'label': 'Children', 'score': 0.0195615217089653},\n",
              "  {'label': 'Craft', 'score': 0.018610317260026932},\n",
              "  {'label': 'Travel', 'score': 0.011466172523796558},\n",
              "  {'label': 'Thrillers', 'score': 0.010662115179002285}],\n",
              " [{'label': 'Craft', 'score': 0.8425617814064026},\n",
              "  {'label': 'Food', 'score': 0.04781079664826393},\n",
              "  {'label': 'Children', 'score': 0.045023661106824875},\n",
              "  {'label': 'Travel', 'score': 0.037620533257722855},\n",
              "  {'label': 'Thrillers', 'score': 0.026983246207237244}],\n",
              " [{'label': 'Food', 'score': 0.9155576825141907},\n",
              "  {'label': 'Children', 'score': 0.030545979738235474},\n",
              "  {'label': 'Craft', 'score': 0.022207971662282944},\n",
              "  {'label': 'Thrillers', 'score': 0.01739669218659401},\n",
              "  {'label': 'Travel', 'score': 0.014291645959019661}],\n",
              " [{'label': 'Thrillers', 'score': 0.7957362532615662},\n",
              "  {'label': 'Children', 'score': 0.12255848944187164},\n",
              "  {'label': 'Craft', 'score': 0.028860293328762054},\n",
              "  {'label': 'Travel', 'score': 0.028020748868584633},\n",
              "  {'label': 'Food', 'score': 0.024824202060699463}],\n",
              " [{'label': 'Craft', 'score': 0.8683961629867554},\n",
              "  {'label': 'Food', 'score': 0.03789610415697098},\n",
              "  {'label': 'Travel', 'score': 0.03712903708219528},\n",
              "  {'label': 'Children', 'score': 0.03222433850169182},\n",
              "  {'label': 'Thrillers', 'score': 0.024354474619030952}],\n",
              " [{'label': 'Thrillers', 'score': 0.49538516998291016},\n",
              "  {'label': 'Children', 'score': 0.4027382433414459},\n",
              "  {'label': 'Craft', 'score': 0.03746143355965614},\n",
              "  {'label': 'Travel', 'score': 0.03225606307387352},\n",
              "  {'label': 'Food', 'score': 0.03215904161334038}],\n",
              " [{'label': 'Food', 'score': 0.9269698262214661},\n",
              "  {'label': 'Craft', 'score': 0.02673671953380108},\n",
              "  {'label': 'Children', 'score': 0.02322007715702057},\n",
              "  {'label': 'Travel', 'score': 0.012288636527955532},\n",
              "  {'label': 'Thrillers', 'score': 0.010784699581563473}],\n",
              " [{'label': 'Travel', 'score': 0.9511082172393799},\n",
              "  {'label': 'Craft', 'score': 0.01430109329521656},\n",
              "  {'label': 'Thrillers', 'score': 0.012911424972116947},\n",
              "  {'label': 'Food', 'score': 0.01089085265994072},\n",
              "  {'label': 'Children', 'score': 0.010788378305733204}],\n",
              " [{'label': 'Children', 'score': 0.6399531960487366},\n",
              "  {'label': 'Thrillers', 'score': 0.1724587082862854},\n",
              "  {'label': 'Food', 'score': 0.08756128698587418},\n",
              "  {'label': 'Craft', 'score': 0.05837463214993477},\n",
              "  {'label': 'Travel', 'score': 0.04165219888091087}],\n",
              " [{'label': 'Craft', 'score': 0.5080859661102295},\n",
              "  {'label': 'Children', 'score': 0.19542358815670013},\n",
              "  {'label': 'Travel', 'score': 0.16998133063316345},\n",
              "  {'label': 'Thrillers', 'score': 0.07040451467037201},\n",
              "  {'label': 'Food', 'score': 0.05610457807779312}],\n",
              " [{'label': 'Travel', 'score': 0.9513377547264099},\n",
              "  {'label': 'Craft', 'score': 0.014079623855650425},\n",
              "  {'label': 'Thrillers', 'score': 0.012811729684472084},\n",
              "  {'label': 'Food', 'score': 0.01093417126685381},\n",
              "  {'label': 'Children', 'score': 0.010836765170097351}],\n",
              " [{'label': 'Children', 'score': 0.4230043292045593},\n",
              "  {'label': 'Thrillers', 'score': 0.3916086256504059},\n",
              "  {'label': 'Craft', 'score': 0.09608916938304901},\n",
              "  {'label': 'Travel', 'score': 0.050198785960674286},\n",
              "  {'label': 'Food', 'score': 0.03909912332892418}],\n",
              " [{'label': 'Children', 'score': 0.5285724401473999},\n",
              "  {'label': 'Thrillers', 'score': 0.35604363679885864},\n",
              "  {'label': 'Craft', 'score': 0.046765636652708054},\n",
              "  {'label': 'Food', 'score': 0.04038802906870842},\n",
              "  {'label': 'Travel', 'score': 0.02823026478290558}],\n",
              " [{'label': 'Children', 'score': 0.37370187044143677},\n",
              "  {'label': 'Craft', 'score': 0.2484317272901535},\n",
              "  {'label': 'Travel', 'score': 0.16561119258403778},\n",
              "  {'label': 'Thrillers', 'score': 0.1637328863143921},\n",
              "  {'label': 'Food', 'score': 0.04852234944701195}],\n",
              " [{'label': 'Children', 'score': 0.33884304761886597},\n",
              "  {'label': 'Craft', 'score': 0.2271365374326706},\n",
              "  {'label': 'Food', 'score': 0.22154195606708527},\n",
              "  {'label': 'Thrillers', 'score': 0.18481437861919403},\n",
              "  {'label': 'Travel', 'score': 0.02766413614153862}],\n",
              " [{'label': 'Thrillers', 'score': 0.55572509765625},\n",
              "  {'label': 'Children', 'score': 0.28748130798339844},\n",
              "  {'label': 'Craft', 'score': 0.06483523547649384},\n",
              "  {'label': 'Travel', 'score': 0.062142446637153625},\n",
              "  {'label': 'Food', 'score': 0.02981584519147873}],\n",
              " [{'label': 'Craft', 'score': 0.8386090397834778},\n",
              "  {'label': 'Children', 'score': 0.057617079466581345},\n",
              "  {'label': 'Food', 'score': 0.03884854540228844},\n",
              "  {'label': 'Travel', 'score': 0.03381602093577385},\n",
              "  {'label': 'Thrillers', 'score': 0.031109292060136795}],\n",
              " [{'label': 'Travel', 'score': 0.9512037634849548},\n",
              "  {'label': 'Craft', 'score': 0.014412802644073963},\n",
              "  {'label': 'Thrillers', 'score': 0.012648604810237885},\n",
              "  {'label': 'Food', 'score': 0.0110543891787529},\n",
              "  {'label': 'Children', 'score': 0.010680437088012695}],\n",
              " [{'label': 'Children', 'score': 0.33365684747695923},\n",
              "  {'label': 'Thrillers', 'score': 0.2795426845550537},\n",
              "  {'label': 'Craft', 'score': 0.2430986613035202},\n",
              "  {'label': 'Travel', 'score': 0.10817462205886841},\n",
              "  {'label': 'Food', 'score': 0.035527173429727554}],\n",
              " [{'label': 'Children', 'score': 0.48875924944877625},\n",
              "  {'label': 'Thrillers', 'score': 0.30020350217819214},\n",
              "  {'label': 'Travel', 'score': 0.10302137583494186},\n",
              "  {'label': 'Craft', 'score': 0.06917339563369751},\n",
              "  {'label': 'Food', 'score': 0.03884248062968254}],\n",
              " [{'label': 'Travel', 'score': 0.7594225406646729},\n",
              "  {'label': 'Craft', 'score': 0.10874278843402863},\n",
              "  {'label': 'Thrillers', 'score': 0.0497734472155571},\n",
              "  {'label': 'Children', 'score': 0.04861977696418762},\n",
              "  {'label': 'Food', 'score': 0.033441416919231415}],\n",
              " [{'label': 'Children', 'score': 0.5674369931221008},\n",
              "  {'label': 'Thrillers', 'score': 0.29109230637550354},\n",
              "  {'label': 'Craft', 'score': 0.05990071967244148},\n",
              "  {'label': 'Travel', 'score': 0.0434330478310585},\n",
              "  {'label': 'Food', 'score': 0.03813694790005684}],\n",
              " [{'label': 'Craft', 'score': 0.5525464415550232},\n",
              "  {'label': 'Children', 'score': 0.19748267531394958},\n",
              "  {'label': 'Travel', 'score': 0.10920028388500214},\n",
              "  {'label': 'Thrillers', 'score': 0.0774487778544426},\n",
              "  {'label': 'Food', 'score': 0.06332176178693771}],\n",
              " [{'label': 'Craft', 'score': 0.5588085055351257},\n",
              "  {'label': 'Travel', 'score': 0.17363910377025604},\n",
              "  {'label': 'Children', 'score': 0.12168022990226746},\n",
              "  {'label': 'Thrillers', 'score': 0.07819727063179016},\n",
              "  {'label': 'Food', 'score': 0.06767486035823822}],\n",
              " [{'label': 'Food', 'score': 0.355070024728775},\n",
              "  {'label': 'Children', 'score': 0.29659971594810486},\n",
              "  {'label': 'Craft', 'score': 0.21329814195632935},\n",
              "  {'label': 'Thrillers', 'score': 0.10024740546941757},\n",
              "  {'label': 'Travel', 'score': 0.03478473052382469}],\n",
              " [{'label': 'Travel', 'score': 0.9094324111938477},\n",
              "  {'label': 'Craft', 'score': 0.039610303938388824},\n",
              "  {'label': 'Thrillers', 'score': 0.019213713705539703},\n",
              "  {'label': 'Children', 'score': 0.016941504552960396},\n",
              "  {'label': 'Food', 'score': 0.014802088029682636}],\n",
              " [{'label': 'Children', 'score': 0.6763956546783447},\n",
              "  {'label': 'Thrillers', 'score': 0.15471288561820984},\n",
              "  {'label': 'Craft', 'score': 0.07004868984222412},\n",
              "  {'label': 'Food', 'score': 0.051767781376838684},\n",
              "  {'label': 'Travel', 'score': 0.047074928879737854}],\n",
              " [{'label': 'Craft', 'score': 0.8375003933906555},\n",
              "  {'label': 'Food', 'score': 0.05727776512503624},\n",
              "  {'label': 'Children', 'score': 0.0479692704975605},\n",
              "  {'label': 'Thrillers', 'score': 0.029465142637491226},\n",
              "  {'label': 'Travel', 'score': 0.027787433937191963}],\n",
              " [{'label': 'Craft', 'score': 0.8070574998855591},\n",
              "  {'label': 'Children', 'score': 0.06380467116832733},\n",
              "  {'label': 'Travel', 'score': 0.05340517684817314},\n",
              "  {'label': 'Thrillers', 'score': 0.03789126127958298},\n",
              "  {'label': 'Food', 'score': 0.03784138336777687}],\n",
              " [{'label': 'Food', 'score': 0.9334179759025574},\n",
              "  {'label': 'Children', 'score': 0.025197472423315048},\n",
              "  {'label': 'Craft', 'score': 0.017986085265874863},\n",
              "  {'label': 'Thrillers', 'score': 0.011745259165763855},\n",
              "  {'label': 'Travel', 'score': 0.011653246358036995}],\n",
              " [{'label': 'Thrillers', 'score': 0.7188470363616943},\n",
              "  {'label': 'Children', 'score': 0.1818423718214035},\n",
              "  {'label': 'Travel', 'score': 0.03832981362938881},\n",
              "  {'label': 'Craft', 'score': 0.03531452268362045},\n",
              "  {'label': 'Food', 'score': 0.02566617541015148}],\n",
              " [{'label': 'Travel', 'score': 0.9485523700714111},\n",
              "  {'label': 'Craft', 'score': 0.014522166922688484},\n",
              "  {'label': 'Thrillers', 'score': 0.013345200568437576},\n",
              "  {'label': 'Children', 'score': 0.01212095096707344},\n",
              "  {'label': 'Food', 'score': 0.011459355242550373}],\n",
              " [{'label': 'Craft', 'score': 0.8612398505210876},\n",
              "  {'label': 'Travel', 'score': 0.04362688958644867},\n",
              "  {'label': 'Children', 'score': 0.03480234369635582},\n",
              "  {'label': 'Food', 'score': 0.03175302594900131},\n",
              "  {'label': 'Thrillers', 'score': 0.02857786789536476}],\n",
              " [{'label': 'Children', 'score': 0.43976905941963196},\n",
              "  {'label': 'Thrillers', 'score': 0.31016355752944946},\n",
              "  {'label': 'Food', 'score': 0.13232550024986267},\n",
              "  {'label': 'Craft', 'score': 0.08972518146038055},\n",
              "  {'label': 'Travel', 'score': 0.02801678143441677}]]"
            ]
          },
          "metadata": {},
          "execution_count": 327
        }
      ]
    },
    {
      "cell_type": "code",
      "source": [
        "import matplotlib.pyplot as plt\n",
        "import numpy as np\n",
        "from sklearn.metrics import ConfusionMatrixDisplay, confusion_matrix\n",
        "\n",
        "# Define your test dataset and labels\n",
        "test_texts = dataset['test']['text']\n",
        "true_labels = dataset['test']['label']  # Replace with the actual labels for your test set\n",
        "\n",
        "# Make predictions using your Hugging Face pipeline\n",
        "predicted_results = book_classifier(test_texts)\n",
        "\n",
        "# Print the results\n",
        "print(\"Sample Text | True Label | Predicted Label | Predicted Score\")\n",
        "print(\"------------------------------------------------------\")\n",
        "for i in range(len(test_texts)):\n",
        "    sample_text = test_texts[i]\n",
        "    true_label = true_labels[i]\n",
        "    predicted_label = predicted_results[i]['label']  # Adjust based on your prediction format\n",
        "    predicted_score = predicted_results[i]['score']\n",
        "    print(f\"{sample_text} | {true_label} | {predicted_label} | {predicted_score}\")"
      ],
      "metadata": {
        "colab": {
          "base_uri": "https://localhost:8080/"
        },
        "id": "h6mHbdWhUEBY",
        "outputId": "bd226f5b-5718-4f1b-c91b-1d0e08999923"
      },
      "execution_count": 323,
      "outputs": [
        {
          "output_type": "stream",
          "name": "stdout",
          "text": [
            "Sample Text | True Label | Predicted Label | Predicted Score\n",
            "------------------------------------------------------\n",
            "Ann Cleeves DEAD WATER EJ Mmemt | 3 | Thrillers | 0.4561990797519684\n",
            "IF WE WERE VILLAINS ML RIO | 3 | Thrillers | 0.5706131458282471\n",
            "MCH PFACH PEIR PIIM enntacnolanll | 0 | Children | 0.5106430649757385\n",
            "Discoverv OF Witches 'DEBORHH HARKReSS | 3 | Thrillers | 0.651600182056427\n",
            "Comeanidn TItu (o I ESIStLLIMG IDST [ J0 falst 800 recipe book Ma FihehIEmstnfaitcI Tecntda MicmizLM0SLET | 2 | Food | 0.929459273815155\n",
            "EPIC BIKE RIDES WORLD | 4 | Travel | 0.7920655012130737\n",
            "ppu Marvellous Magnet Book | 0 | Thrillers | 0.47039464116096497\n",
            "Alajcat OFF THF MAP | 4 | Travel | 0.6626936197280884\n",
            "Baby-Led Weaning Cookbook DUUcols Rectes Fril Ai Ia Icu Dax Lea to [ut Ccnco Mu ue Whzle Wn F | 2 | Food | 0.9321258664131165\n",
            "(REATIVE Setloxng AND BEYOND iNSPIRING TiPS, lechniques € FcR Ha: LETTBFG {04ewS to Iautiful worka of art ideas | 1 | Craft | 0.8246963024139404\n",
            "Velbic Brown 50 EASY PARTY CAKES ~er ia | 2 | Food | 0.9252259135246277\n",
            "trim healch; mama COOKBOOK EETIT} | 2 | Food | 0.9333338737487793\n",
            "WHAT'$ DONE IN THE DARK wILL COME TO LIGHT; THE DARK 5 |D E 0 F THE MIR RO R A ThRILLE R B Y H R IS t 0 P H E R M U R P H Y | 3 | Children | 0.43854719400405884\n",
            "FOoLPROOF CAKES | 2 | Food | 0.8896491527557373\n",
            "Knitting Without Tears | 1 | Craft | 0.8614628314971924\n",
            "JULIA DONALDSON DINOSAUR' DIARY | 0 | Thrillers | 0.47105708718299866\n",
            "THE BAG MAKING BIBLE | 1 | Craft | 0.686480700969696\n",
            "the fast diet recipe book MTMT SPENCER UI D AaI ichtt | 2 | Food | 0.9384263157844543\n",
            "VICTOR SHEYMOV TOwER OF SECRETS A Real Life Spy Thriller | 3 | Thrillers | 0.7374251484870911\n",
            "CREATIVE ColourIJC= 4uu (OROWN-OPS | 1 | Craft | 0.8514332175254822\n",
            "Nev Babyf | 0 | Children | 0.6716076731681824\n",
            "Japan 7C | 4 | Travel | 0.9488022327423096\n",
            "toucR 0f SccrCTS A Real Life  Spy Thriller Vc FOR SHE AMOV | 3 | Thrillers | 0.7205972075462341\n",
            "Collrng needT0 knox Food for Free gem | 2 | Food | 0.9325467944145203\n",
            "B E $ T T R A V E L B 0 0 K 0 F T H E Y E A R BALL SECRETS The Ultimate Bali Travel Guide__without all the fluff. Real tips on what to do; where t0 stay; and how tO have an epic Bali trip 500+ COPIES SOLD Edited by Laura ] Sha | 4 | Travel | 0.8919299244880676\n",
            "Egyptl | 4 | Travel | 0.9500935673713684\n",
            "EGI SJRH =CHEAEEI the FastDiet cookbook MentlFrchilal | 2 | Food | 0.9396998882293701\n",
            "Qive t0 Jtw Mug Rugs | 1 | Craft | 0.8425617814064026\n",
            "Original BLOOD TYPE DIET EAI RIGHT FAR YOUR TYPE Dr Peter _ D'Adamo Fath Cuahorato Wnine  | 2 | Food | 0.9155576825141907\n",
            "J C GA T LN DARKNESS WAITS | 3 | Thrillers | 0.7957362532615662\n",
            "Country Cottage Quilting I5owh #c Combining %utctu | 1 | Craft | 0.8683961629867554\n",
            "GoodniGHT  MOON btten clane7 | 0 | Thrillers | 0.49538516998291016\n",
            "OVERCOMING MULTIPLE SCLEROSIS cooKBook ingaic JBERGE? | 2 | Food | 0.9269698262214661\n",
            "Iceland | 4 | Travel | 0.9511082172393799\n",
            "Tha WinPy Kid Do-It-Yourself Bouk | 0 | Children | 0.6399531960487366\n",
            "THE LEGO ARCHITECT TOMALPHIN | 1 | Craft | 0.5080859661102295\n",
            "France | 4 | Travel | 0.9513377547264099\n",
            "Mermaids AreReall Ilelly UUttl | 0 | Children | 0.4230043292045593\n",
            "michelle crunchaime Hedeaau bridges | 2 | Children | 0.5285724401473999\n",
            "Ver link. annun Wrhc 764 \"'mr= | 4 | Children | 0.37370187044143677\n",
            "Kole KNIFE JO NESBO | 3 | Children | 0.33884304761886597\n",
            "WHERE THE WILD THINCS ARE STORY AND PICTURES BY MAURICE SENDAK | 0 | Thrillers | 0.55572509765625\n",
            "JICU ccha thenx:' &id Princess Marya. give thcm che COrI comning in cunnncd Dunyasha < words; thc Pcisz Ge uEucuon nccrfnI sid the princess \"You Iu WIOng: only xid that You were give th Ied without reply COMuan hc suid. Vuman olicring Cari nlerc  Anbcn mante DduD Knarci TOt Lc emlight hye4 and che boldly an aid Fut Alll becuL dilc ccm MEA gie you everything. cvcrything Carn thae MA told that piving Cur )n thc contrar; Mot wich all Ct 4na Heero undertke and DT Snl Dvel oet Nothing he heard from Grt UPCYCLED CRAFTS FROM OLD BOOk PACES The Crazy Craft Lady iatfet then 264 prat hcgin Tyath Uou bcen Mloscow | 1 | Craft | 0.8386090397834778\n",
            "Indonesia | 4 | Travel | 0.9512037634849548\n",
            "Charloltes BWStee Tuang Web Ct | 0 | Children | 0.33365684747695923\n",
            "Where s Spot? Eric Hill | 0 | Children | 0.48875924944877625\n",
            "HERE WE HAVE THE Book TAGLINE TRAVEL TREASURES THE SUBTITLE A REA A U T H 0 R N A M E PSt | 4 | Travel | 0.7594225406646729\n",
            "THE GjRL Wilo NEVER MADE MisTAKES | 0 | Children | 0.5674369931221008\n",
            "WHERE THE WILD THINCS ARE S1oRN AND PICTuPES BY MA uRICE 5E4Dak | 0 | Craft | 0.5525464415550232\n",
            "MARY THOMAS'S DICTIONARY OF BYBF8RE8 FuDC ICAHT | 1 | Craft | 0.5588085055351257\n",
            "VJUcK OLivea Iutm | 0 | Food | 0.355070024728775\n",
            "Neol mnop jor Iputn 4 Collins TOURING MAP SCOTLAND ovcr _ dod discc5 *1 Intcrtt | 4 | Travel | 0.9094324111938477\n",
            "Dear Zoo Rod Campbell Zod | 0 | Children | 0.6763956546783447\n",
            "Spinner $ ~Ksuky\" Yarn Designs | 1 | Craft | 0.8375003933906555\n",
            "how TO DrAW ALMOST EVERYTHING | 1 | Craft | 0.8070574998855591\n",
            "THE FOOD Pv LAB KENJ LOPEZ-/ LT Rartee Home Coobind Theauoh Swnce | 2 | Food | 0.9334179759025574\n",
            "HanesWtkeBe THe LLES LZE Tedenlonoen DA RK PLACES GJLLIAN #XYNN | 3 | Thrillers | 0.7188470363616943\n",
            "Malaysia Singapore & Brunei | 4 | Travel | 0.9485523700714111\n",
            "MODULAR ORIGAMI 18 Colorful and Customizable Folded Paper Sculptures Tung Ken Lam | 1 | Craft | 0.8612398505210876\n",
            "Juliid chRISc a RTE R HUNTING EVIY Kaolts Ale ThctLa eann DJ5T EScaNID | 3 | Children | 0.43976905941963196\n"
          ]
        }
      ]
    },
    {
      "cell_type": "markdown",
      "source": [
        "### Classification Report"
      ],
      "metadata": {
        "id": "DtchUZu6BTnI"
      }
    },
    {
      "cell_type": "markdown",
      "source": [
        "Generate a classification report (precision, recall, f1-score) by comparing the true labels from the test dataset with the predicted labels."
      ],
      "metadata": {
        "id": "h_nR_kSLeHTz"
      }
    },
    {
      "cell_type": "code",
      "source": [
        "from sklearn.metrics import classification_report\n",
        "true_labels = dataset['test']['label']\n",
        "predicted_labels = [result['label'] for result in predicted_results]  # Extract class indices\n",
        "\n",
        "# Define id2label and label2id mappings\n",
        "id2label = {0: 'Children', 1: 'Craft', 2: 'Food', 3: 'Thrillers', 4: 'Travel'}\n",
        "label2id = {v: k for k, v in id2label.items()}\n",
        "\n",
        "# Convert predicted string labels to numerical IDs\n",
        "predicted_labels_ids = [label2id[label] for label in predicted_labels]\n",
        "\n",
        "target_names = ['Children', 'Craft', 'Food', 'Thrillers', 'Travel']\n",
        "print(classification_report(true_labels, predicted_labels_ids, target_names=target_names))"
      ],
      "metadata": {
        "colab": {
          "base_uri": "https://localhost:8080/"
        },
        "id": "oeUveqB1UqHP",
        "outputId": "66e42d19-5a71-40e7-fa33-e09d18d2457a"
      },
      "execution_count": null,
      "outputs": [
        {
          "output_type": "stream",
          "name": "stdout",
          "text": [
            "              precision    recall  f1-score   support\n",
            "\n",
            "    Children       0.62      0.57      0.59        14\n",
            "       Craft       0.92      1.00      0.96        12\n",
            "        Food       0.92      0.92      0.92        12\n",
            "   Thrillers       0.64      0.70      0.67        10\n",
            "      Travel       1.00      0.92      0.96        12\n",
            "\n",
            "    accuracy                           0.82        60\n",
            "   macro avg       0.82      0.82      0.82        60\n",
            "weighted avg       0.82      0.82      0.82        60\n",
            "\n"
          ]
        }
      ]
    },
    {
      "cell_type": "markdown",
      "source": [
        "### Graphs"
      ],
      "metadata": {
        "id": "FOptJrQDBMll"
      }
    },
    {
      "cell_type": "markdown",
      "source": [
        "Precision-Recall Points (Approximation)"
      ],
      "metadata": {
        "id": "YjOAv25ErlbN"
      }
    },
    {
      "cell_type": "code",
      "source": [
        "import matplotlib.pyplot as plt\n",
        "\n",
        "# Precision and recall values from the classification report\n",
        "classes = ['Children', 'Craft', 'Food', 'Thrillers', 'Travel']\n",
        "precision_values = [0.62, 0.92, 0.92, 0.64, 1.00]\n",
        "recall_values = [0.57, 1.00, 0.92, 0.70, 0.92]\n",
        "\n",
        "# Create the plot\n",
        "plt.figure(figsize=(10, 7))\n",
        "for i, class_name in enumerate(classes):\n",
        "    plt.scatter(recall_values[i], precision_values[i], label=f'{class_name} (Precision={precision_values[i]:.2f}, Recall={recall_values[i]:.2f})')\n",
        "\n",
        "plt.xlabel('Recall')\n",
        "plt.ylabel('Precision')\n",
        "plt.title('Precision-Recall Points (Approximation)')\n",
        "plt.legend(loc='best')\n",
        "plt.grid()\n",
        "plt.show()"
      ],
      "metadata": {
        "colab": {
          "base_uri": "https://localhost:8080/",
          "height": 641
        },
        "id": "m196Wy1N2WnY",
        "outputId": "0beda3f3-db37-492a-f56c-aeafccd4979f"
      },
      "execution_count": null,
      "outputs": [
        {
          "output_type": "display_data",
          "data": {
            "text/plain": [
              "<Figure size 1000x700 with 1 Axes>"
            ],
            "image/png": "[encoded data removed]"
          },
          "metadata": {}
        }
      ]
    },
    {
      "cell_type": "markdown",
      "source": [
        "We had difficulties to generate a precision-recall curve, but we have the Precision-Recall Points above that visualizes precision and recall at the specific operating point but lacks the threshold-level insights of a full curve (Approximation).\n",
        "\n",
        "Below are our attempts to generate a precision-recall curve and a recall-confidence curve using sklearn, but they are probably incorrect in demostrating the full curves."
      ],
      "metadata": {
        "id": "5q1_nU6osE5k"
      }
    },
    {
      "cell_type": "markdown",
      "source": [
        "Precision-recall curve"
      ],
      "metadata": {
        "id": "V0EWrJFa3-z0"
      }
    },
    {
      "cell_type": "code",
      "source": [
        "import numpy as np\n",
        "import matplotlib.pyplot as plt\n",
        "from sklearn.metrics import precision_recall_curve, average_precision_score\n",
        "from sklearn.preprocessing import label_binarize\n",
        "\n",
        "# Inputs\n",
        "true_labels = np.array(dataset['test']['label'])\n",
        "predicted_scores = np.array([[score[\"score\"] for score in sample] for sample in predicted_results])\n",
        "\n",
        "# Step 1: Binarize the true labels\n",
        "classes = [0, 1, 2, 3, 4]\n",
        "class_names = ['Children', 'Craft', 'Food', 'Thrillers', 'Travel']  # Class names\n",
        "num_classes = len(classes)\n",
        "true_labels_binarized = label_binarize(true_labels, classes=classes)\n",
        "\n",
        "# Step 2: Compute Precision-Recall metrics\n",
        "precision = dict()\n",
        "recall = dict()\n",
        "average_precision = dict()\n",
        "\n",
        "for i in range(num_classes):\n",
        "    precision[i], recall[i], _ = precision_recall_curve(true_labels_binarized[:, i], predicted_scores[:, i])\n",
        "    average_precision[i] = average_precision_score(true_labels_binarized[:, i], predicted_scores[:, i])\n",
        "\n",
        "# Step 3: Plot Precision-Recall curves\n",
        "plt.figure(figsize=(10, 7))\n",
        "for i in range(num_classes):\n",
        "    plt.plot(recall[i], precision[i], label=f'{class_names[i]} (AP={average_precision[i]:.2f})')\n",
        "\n",
        "plt.xlabel('Recall')\n",
        "plt.ylabel('Precision')\n",
        "plt.title('Precision-Recall Curve')\n",
        "plt.legend(loc='best')\n",
        "plt.grid()\n",
        "plt.show()"
      ],
      "metadata": {
        "colab": {
          "base_uri": "https://localhost:8080/",
          "height": 641
        },
        "id": "6YYXDQFW27vr",
        "outputId": "c87bd12c-7084-4e36-f52b-e2b57d049e21"
      },
      "execution_count": 321,
      "outputs": [
        {
          "output_type": "display_data",
          "data": {
            "text/plain": [
              "<Figure size 1000x700 with 1 Axes>"
            ],
            "image/png": "[encoded data removed]"
          },
          "metadata": {}
        }
      ]
    },
    {
      "cell_type": "code",
      "source": [
        "import numpy as np\n",
        "import matplotlib.pyplot as plt\n",
        "from sklearn.metrics import precision_recall_curve\n",
        "from sklearn.preprocessing import label_binarize\n",
        "\n",
        "# Prepare true labels and predicted scores\n",
        "true_labels = np.array(dataset['test']['label'])\n",
        "# Extract scores\n",
        "predicted_probs = np.array([result['score'] for result in predicted_results])\n",
        "\n",
        "\n",
        "# Assuming you have 5 classes\n",
        "classes = ['Children', 'Craft', 'Food', 'Thrillers', 'Travel']\n",
        "num_classes = len(classes)  # Total number of classes\n",
        "binarized_labels = label_binarize(true_labels, classes=range(num_classes))\n",
        "\n",
        "print(\"Shape of binarized_labels:\", binarized_labels.shape)\n",
        "print(\"Shape of predicted_probs:\", predicted_probs.shape)\n",
        "\n",
        "# Step 2: Calculate precision and recall for each class\n",
        "precision = dict()\n",
        "recall = dict()\n",
        "average_precision = dict()\n",
        "\n",
        "for i in range(num_classes):\n",
        "    precision[i], recall[i], _ = precision_recall_curve(binarized_labels[:, i], predicted_probs)\n",
        "    average_precision[i] = average_precision_score(binarized_labels[:, i], predicted_probs)\n",
        "\n",
        "# Step 3: Plot the precision-recall curves for each class\n",
        "plt.figure(figsize=(10, 7))\n",
        "for i in range(num_classes):\n",
        "    plt.plot(recall[i], precision[i], label=f'{classes[i]} (AP={average_precision[i]:.2f})')\n",
        "\n",
        "plt.xlabel('Recall')\n",
        "plt.ylabel('Precision')\n",
        "plt.title('Precision-Recall Curve')\n",
        "plt.legend(loc='best')\n",
        "plt.grid()\n",
        "plt.show()"
      ],
      "metadata": {
        "colab": {
          "base_uri": "https://localhost:8080/",
          "height": 677
        },
        "id": "aHvyIefpf_ED",
        "outputId": "bce57303-529a-4176-eca0-464204f7fb87"
      },
      "execution_count": null,
      "outputs": [
        {
          "output_type": "stream",
          "name": "stdout",
          "text": [
            "Shape of binarized_labels: (60, 5)\n",
            "Shape of predicted_probs: (60,)\n"
          ]
        },
        {
          "output_type": "display_data",
          "data": {
            "text/plain": [
              "<Figure size 1000x700 with 1 Axes>"
            ],
            "image/png": "[encoded data removed]"
          },
          "metadata": {}
        }
      ]
    },
    {
      "cell_type": "markdown",
      "source": [
        "Recall-Confidence Curve"
      ],
      "metadata": {
        "id": "GykSWX8b4CJ9"
      }
    },
    {
      "cell_type": "code",
      "source": [
        "import numpy as np\n",
        "import matplotlib.pyplot as plt\n",
        "from sklearn.metrics import precision_recall_curve\n",
        "from sklearn.preprocessing import label_binarize\n",
        "\n",
        "# Inputs\n",
        "true_labels = np.array(dataset['test']['label'])\n",
        "predicted_scores = np.array([[score[\"score\"] for score in sample] for sample in predicted_results])\n",
        "\n",
        "# Step 1: Binarize the true labels\n",
        "classes = [0, 1, 2, 3, 4]\n",
        "class_names = ['Children', 'Craft', 'Food', 'Thrillers', 'Travel']  # Class names\n",
        "num_classes = len(classes)\n",
        "true_labels_binarized = label_binarize(true_labels, classes=classes)\n",
        "\n",
        "# Step 2: Compute Recall-Confidence metrics\n",
        "recall = dict()\n",
        "confidence_thresholds = dict()\n",
        "\n",
        "for i in range(num_classes):\n",
        "    precision, recall[i], thresholds = precision_recall_curve(true_labels_binarized[:, i], predicted_scores[:, i])\n",
        "    # Append 0 to thresholds to match the length of recall (precision_recall_curve does this internally)\n",
        "    confidence_thresholds[i] = np.append(thresholds, 0)\n",
        "\n",
        "# Step 3: Plot Recall-Confidence curves\n",
        "plt.figure(figsize=(10, 7))\n",
        "for i in range(num_classes):\n",
        "    plt.plot(recall[i], confidence_thresholds[i], label=f'{class_names[i]}')\n",
        "\n",
        "plt.xlabel('Recall')\n",
        "plt.ylabel('Confidence')\n",
        "plt.title('Recall-Confidence Curve')\n",
        "plt.legend(loc='best')\n",
        "plt.grid()\n",
        "plt.show()\n"
      ],
      "metadata": {
        "colab": {
          "base_uri": "https://localhost:8080/",
          "height": 641
        },
        "id": "EP0RYl-K3c9t",
        "outputId": "e47105ee-4ee2-4334-f423-6d4d2e795d6f"
      },
      "execution_count": 328,
      "outputs": [
        {
          "output_type": "display_data",
          "data": {
            "text/plain": [
              "<Figure size 1000x700 with 1 Axes>"
            ],
            "image/png": "[encoded data removed]"
          },
          "metadata": {}
        }
      ]
    },
    {
      "cell_type": "markdown",
      "source": [
        "### Confusion Matrices"
      ],
      "metadata": {
        "id": "kAJxHMqeBBIV"
      }
    },
    {
      "cell_type": "code",
      "source": [
        "import matplotlib.pyplot as plt\n",
        "import numpy as np\n",
        "from sklearn.metrics import ConfusionMatrixDisplay, confusion_matrix\n",
        "\n",
        "# Define your test dataset and labels\n",
        "test_texts = dataset['test']['text']\n",
        "true_labels = dataset['test']['label']  # Replace with the actual labels for your test set\n",
        "\n",
        "# Make predictions using your Hugging Face pipeline\n",
        "predicted_results = book_classifier(test_texts)\n",
        "predicted_labels = [result['label'] for result in predicted_results]  # Extract class indices\n",
        "\n",
        "# Define id2label and label2id mappings\n",
        "id2label = {0: 'Children', 1: 'Craft', 2: 'Food', 3: 'Thrillers', 4: 'Travel'}\n",
        "label2id = {v: k for k, v in id2label.items()}\n",
        "\n",
        "# Convert predicted string labels to numerical IDs\n",
        "predicted_labels_ids = [label2id[label] for label in predicted_labels]\n",
        "\n",
        "# Define class names\n",
        "class_names = list(id2label.values())\n",
        "\n",
        "# Compute confusion matrix\n",
        "cm = confusion_matrix(true_labels, predicted_labels_ids, labels=range(5))\n",
        "\n",
        "# Compute normalized confusion matrix\n",
        "cm_normalized = confusion_matrix(true_labels, predicted_labels_ids, labels=range(5), normalize=\"true\")\n",
        "\n",
        "# Plot confusion matrix (non-normalized and normalized versions)\n",
        "titles_options = [\n",
        "    (\"Confusion matrix\", cm),\n",
        "    (\"Normalized confusion matrix\", cm_normalized),\n",
        "]\n",
        "\n",
        "for title, cm_to_plot in titles_options:\n",
        "    disp = ConfusionMatrixDisplay(\n",
        "        confusion_matrix=cm_to_plot,\n",
        "        display_labels=class_names,\n",
        "    )\n",
        "    disp.plot(cmap=plt.cm.Blues, xticks_rotation='vertical')\n",
        "    plt.title(title)\n",
        "\n",
        "plt.show()"
      ],
      "metadata": {
        "colab": {
          "base_uri": "https://localhost:8080/",
          "height": 1000
        },
        "id": "1SNtsD4LOac8",
        "outputId": "4bd0558e-9caa-44a6-c076-7e869c4f1eb4"
      },
      "execution_count": null,
      "outputs": [
        {
          "output_type": "display_data",
          "data": {
            "text/plain": [
              "<Figure size 640x480 with 2 Axes>"
            ],
            "image/png": "[encoded data removed]"
          },
          "metadata": {}
        },
        {
          "output_type": "display_data",
          "data": {
            "text/plain": [
              "<Figure size 640x480 with 2 Axes>"
            ],
            "image/png": "[encoded data removed]"
          },
          "metadata": {}
        }
      ]
    }
  ]
}