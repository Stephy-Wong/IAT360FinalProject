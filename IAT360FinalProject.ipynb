{
  "nbformat": 4,
  "nbformat_minor": 0,
  "metadata": {
    "colab": {
      "provenance": [],
      "authorship_tag": "ABX9TyMsGmhptDoxRQX80Ig0q1Wu",
      "include_colab_link": true
    },
    "kernelspec": {
      "name": "python3",
      "display_name": "Python 3"
    },
    "language_info": {
      "name": "python"
    }
  },
  "cells": [
    {
      "cell_type": "markdown",
      "metadata": {
        "id": "view-in-github",
        "colab_type": "text"
      },
      "source": [
        "<a href=\"https://colab.research.google.com/github/Stephy-Wong/IAT360FinalProject.ipynb/blob/main/IAT360FinalProject.ipynb\" target=\"_parent\"><img src=\"https://colab.research.google.com/assets/colab-badge.svg\" alt=\"Open In Colab\"/></a>"
      ]
    },
    {
      "cell_type": "markdown",
      "source": [
        "# **Book Cover Classifier using easyOCR and Bert**"
      ],
      "metadata": {
        "id": "ZP9bLj3OfyJ1"
      }
    },
    {
      "cell_type": "markdown",
      "source": [
        "## Optical Character Recognition (OCR)"
      ],
      "metadata": {
        "id": "lty-oRK5g1s-"
      }
    },
    {
      "cell_type": "markdown",
      "source": [
        "Install easyocr for extracting text in book covers"
      ],
      "metadata": {
        "id": "M8YcLjSOgrEX"
      }
    },
    {
      "cell_type": "code",
      "execution_count": null,
      "metadata": {
        "id": "9ksxHWdlfkA5"
      },
      "outputs": [],
      "source": [
        "pip install easyocr"
      ]
    },
    {
      "cell_type": "code",
      "source": [
        "import easyocr\n",
        "import os\n",
        "\n",
        "# Initialize the easyocr reader\n",
        "reader = easyocr.Reader(['en'])\n",
        "\n",
        "# List of image paths\n",
        "image_paths = [\n",
        "    \"Desktop/IAT 360/Final Project/dataset/images/Children_Books\",\n",
        "    \"Desktop/IAT 360/Final Project/dataset/images/Craft_Hobbies\",\n",
        "    \"Desktop/IAT 360/Final Project/dataset/images/Food_Drink\",\n",
        "    \"Desktop/IAT 360/Final Project/dataset/images/Thrillers\",\n",
        "    \"Desktop/IAT 360/Final Project/dataset/images/Travel\",\n",
        "]\n",
        "\n",
        "# Corresponding output file paths\n",
        "output_paths = [\n",
        "    \"Desktop/IAT 360/Final Project/dataset/labels/Children_Books_output.txt\",\n",
        "    \"Desktop/IAT 360/Final Project/dataset/labels/Craft_Hobbies_output.txt\",\n",
        "    \"Desktop/IAT 360/Final Project/dataset/labels/Food_Drink_output.txt\",\n",
        "    \"Desktop/IAT 360/Final Project/dataset/labels/Thrillers_output.txt\",\n",
        "    \"Desktop/IAT 360/Final Project/dataset/labels/Travel_output.txt\",\n",
        "]\n",
        "\n",
        "# Loop through each directory and corresponding output file\n",
        "for image_path, output_path in zip(image_paths, output_paths):\n",
        "    image_count = 0  # Reset counter for each directory\n",
        "\n",
        "    # Open the output file for writing\n",
        "    with open(output_path, \"w\") as output_file:\n",
        "        # Loop through each image file in the directory\n",
        "        for image_file in os.listdir(image_path):\n",
        "            if image_file.lower().endswith(('.jpg', '.png', '.jpeg')):\n",
        "                # Full path to the image\n",
        "                image = os.path.join(image_path, image_file)\n",
        "\n",
        "                # Run easyocr on the image\n",
        "                result = reader.readtext(image)\n",
        "\n",
        "                # Collect all the text from the result and join it as a single line\n",
        "                strings = [item[1] for item in result]\n",
        "                line = \" \".join(strings)  # Join with a space to keep words readable\n",
        "\n",
        "                # Write the concatenated line to the file\n",
        "                output_file.write(line + \"\\n\")\n",
        "\n",
        "                # Increment the counter and stop after 100 images\n",
        "                image_count += 1\n",
        "                if image_count >= 100:\n",
        "                    break"
      ],
      "metadata": {
        "id": "xe5GoEC_gLdX"
      },
      "execution_count": null,
      "outputs": []
    },
    {
      "cell_type": "code",
      "source": [
        "import numpy as np\n",
        "import glob\n",
        "\n",
        "df = {'text': [],\n",
        "      'label': []}\n",
        "\n",
        "# Define label mapping based on file names\n",
        "label_mapping = {\n",
        "  'Children_Books_output.txt': 0,\n",
        "  'Craft_Hobbies_output.txt': 1,\n",
        "  'Food_Drink_output.txt': 2,\n",
        "  'Thrillers_output.txt': 3,\n",
        "  'Travel_output.txt': 4\n",
        "}\n",
        "\n",
        "x = []\n",
        "count = 0\n",
        "\n",
        "for file in glob.glob('Desktop/IAT 360/Final Project/dataset/labels/*.txt'):\n",
        "  # Extract the file name\n",
        "  file_name = file.split('/')[-1]  # Adjust based on your OS path separator\n",
        "  label = label_mapping.get(file_name)  # Get the corresponding label\n",
        "\n",
        "  # Open each file to extract data content\n",
        "  with open(file, 'r') as f:\n",
        "      file_content = f.read().splitlines()\n",
        "\n",
        "  # Append text and label to the df dictionary\n",
        "  for content in file_content:\n",
        "      df['text'].append(content)  # Keep the text as-is\n",
        "      df['label'].append(label)   # Assign the label based on the file\n",
        "\n",
        "  count += 1\n",
        "\n",
        "# Convert labels to a numpy array if needed\n",
        "x = np.array(df['label'])  # Only labels, if required"
      ],
      "metadata": {
        "id": "R00LHyO5gUmT"
      },
      "execution_count": null,
      "outputs": []
    },
    {
      "cell_type": "code",
      "source": [
        "import pandas as pd\n",
        "all_df = pd.DataFrame(df)\n",
        "all_df"
      ],
      "metadata": {
        "id": "5amziuLDgd3E"
      },
      "execution_count": null,
      "outputs": []
    }
  ]
}